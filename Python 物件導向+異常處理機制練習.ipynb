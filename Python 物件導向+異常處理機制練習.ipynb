{
 "cells": [
  {
   "cell_type": "markdown",
   "metadata": {},
   "source": [
    "## 物件導向：將真實世界的事物模組化，主要目的是提供軟體的再使用性和可讀性"
   ]
  },
  {
   "cell_type": "markdown",
   "metadata": {},
   "source": [
    "### 定義方法\n",
    "- 定義於類別內部\n",
    "- 只有產生實體(物件)才會被呼叫\n",
    "- 定義方法的第一個參數必須是自己 -> self"
   ]
  },
  {
   "cell_type": "markdown",
   "metadata": {},
   "source": [
    "#### self 的用意\n",
    "1. 定義類別時所有的方法都必須宣告他\n",
    "2. 當物件呼叫方法時，Python直譯器會將它傳遞\n",
    "3. 使用於方法的 self 引數，會繫結所指向的實體"
   ]
  },
  {
   "cell_type": "markdown",
   "metadata": {},
   "source": [
    "#### pickle 的使用"
   ]
  },
  {
   "cell_type": "code",
   "execution_count": 4,
   "metadata": {},
   "outputs": [
    {
     "name": "stdout",
     "output_type": "stream",
     "text": [
      "b'\\x80\\x04\\x95\\x11\\x00\\x00\\x00\\x00\\x00\\x00\\x00]\\x94(\\x8c\\x011\\x94\\x8c\\x013\\x94\\x8c\\x014\\x94e.'\n"
     ]
    }
   ],
   "source": [
    "#dumps功能\n",
    "import pickle\n",
    "data = ['1','3','4']\n",
    "#將data中python的特殊資料形式存為只有python語言認識的字串\n",
    "a = pickle.dumps(data) # 將obj物件序列化為string形式，而不是存入檔案中。\n",
    "print(a)"
   ]
  },
  {
   "cell_type": "code",
   "execution_count": 5,
   "metadata": {},
   "outputs": [
    {
     "name": "stdout",
     "output_type": "stream",
     "text": [
      "['1', '3', '4']\n"
     ]
    }
   ],
   "source": [
    "# loads功能\n",
    "# 將pickle資料轉換為python的資料結構\n",
    "b = pickle.loads(a) # 從string中讀出序列化前的obj物件\n",
    "print(b)"
   ]
  },
  {
   "cell_type": "code",
   "execution_count": 6,
   "metadata": {},
   "outputs": [
    {
     "name": "stdout",
     "output_type": "stream",
     "text": [
      "款式: Vios  , 顏色:極光藍 \n",
      "款式: Altis , 顏色:炫魅紅 \n"
     ]
    }
   ],
   "source": [
    "class Motor: # 字首要大寫\n",
    "    # 定義方法一 : 取得名稱和顏色\n",
    "    def buildCar(self, name, color):\n",
    "        self.name = name\n",
    "        self.color = color\n",
    "    # 定義方法二： 輸出名稱和顏色\n",
    "    def showMessage(self):\n",
    "        print('款式: {0:6s}, 顏色:{1:4s}'.format(self.name, self.color)) # 0: 第一個欄位 1: 第二個欄位\n",
    "# 產生物件\n",
    "car1 = Motor() # 物件1\n",
    "car1.buildCar('Vios', '極光藍')\n",
    "car1.showMessage()\n",
    "car2 = Motor() # 物件2\n",
    "car2.buildCar('Altis', '炫魅紅')\n",
    "car2.showMessage()"
   ]
  },
  {
   "cell_type": "code",
   "execution_count": 20,
   "metadata": {},
   "outputs": [
    {
     "ename": "TypeError",
     "evalue": "Motor() takes no arguments",
     "output_type": "error",
     "traceback": [
      "\u001b[1;31m---------------------------------------------------------------------------\u001b[0m",
      "\u001b[1;31mTypeError\u001b[0m                                 Traceback (most recent call last)",
      "\u001b[1;32m<ipython-input-20-d246cd8c110e>\u001b[0m in \u001b[0;36m<module>\u001b[1;34m\u001b[0m\n\u001b[1;32m----> 1\u001b[1;33m \u001b[0mMotor\u001b[0m\u001b[1;33m(\u001b[0m\u001b[1;34m'Vios'\u001b[0m\u001b[1;33m,\u001b[0m \u001b[1;34m'極光藍'\u001b[0m\u001b[1;33m)\u001b[0m\u001b[1;33m\u001b[0m\u001b[1;33m\u001b[0m\u001b[0m\n\u001b[0m",
      "\u001b[1;31mTypeError\u001b[0m: Motor() takes no arguments"
     ]
    }
   ],
   "source": [
    "Motor('Vios', '極光藍') # 出 error"
   ]
  },
  {
   "cell_type": "code",
   "execution_count": 13,
   "metadata": {},
   "outputs": [
    {
     "data": {
      "text/plain": [
       "__main__.Motor"
      ]
     },
     "execution_count": 13,
     "metadata": {},
     "output_type": "execute_result"
    }
   ],
   "source": [
    "type(car1)"
   ]
  },
  {
   "cell_type": "code",
   "execution_count": 15,
   "metadata": {},
   "outputs": [
    {
     "name": "stdout",
     "output_type": "stream",
     "text": [
      "James McAvoy\n",
      "78.566\n"
     ]
    }
   ],
   "source": [
    "class Student:\n",
    "    def message(self, name): # 方法一\n",
    "        self.data = name\n",
    "    def showMessage(self): # 方法二\n",
    "        print(self.data)\n",
    "s1 = Student() # 第一個物件\n",
    "s1.message('James McAvoy') # 呼叫方法時傳入字串\n",
    "s1.showMessage()\n",
    "s2 = Student() # 第二個物件\n",
    "s2.message(78.566) # 呼叫方法時傳入浮點數值\n",
    "s2.showMessage()"
   ]
  },
  {
   "cell_type": "code",
   "execution_count": 16,
   "metadata": {},
   "outputs": [
    {
     "data": {
      "text/plain": [
       "76.33333333333333"
      ]
     },
     "execution_count": 16,
     "metadata": {},
     "output_type": "execute_result"
    }
   ],
   "source": [
    "class Student:\n",
    "    def score(self, s1, s2, s3): \n",
    "        return (s1+s2+s3)/3\n",
    "Tomas = Student() # 產生物件\n",
    "Tomas.score(78, 96, 55)"
   ]
  },
  {
   "cell_type": "code",
   "execution_count": 17,
   "metadata": {},
   "outputs": [
    {
     "data": {
      "text/plain": [
       "['math']"
      ]
     },
     "execution_count": 17,
     "metadata": {},
     "output_type": "execute_result"
    }
   ],
   "source": [
    "## 新增物件屬性\n",
    "Tomas.subject = [] # 自訂屬性\n",
    "Tomas.subject.append('math')\n",
    "Tomas.subject"
   ]
  },
  {
   "cell_type": "markdown",
   "metadata": {},
   "source": [
    "#### 先建構再初始化物件"
   ]
  },
  {
   "cell_type": "code",
   "execution_count": 23,
   "metadata": {},
   "outputs": [],
   "source": [
    "'''\n",
    "class Motor: # 字首要大寫\n",
    "    # 定義方法一 : 取得名稱和顏色\n",
    "    def buildCar(self, name, color):\n",
    "        self.name = name\n",
    "        self.color = color\n",
    "'''\n",
    "class Motor:\n",
    "    def __init__(self, name, color) : #對物件做初始化\n",
    "        self.name = name\n",
    "        self.color = color"
   ]
  },
  {
   "cell_type": "code",
   "execution_count": 27,
   "metadata": {},
   "outputs": [],
   "source": [
    "'''\n",
    "由於 __init__()方法要有兩個參數，所以實體化物件就得傳入name.color兩個參數值，若未加入就換產生TypeError\n",
    "'''\n",
    "car1 = Motor('Vios', '極光藍')"
   ]
  },
  {
   "cell_type": "code",
   "execution_count": 29,
   "metadata": {},
   "outputs": [
    {
     "name": "stdout",
     "output_type": "stream",
     "text": [
      "圓周長:94.247780\n",
      "圓面積:706.858347\n"
     ]
    }
   ],
   "source": [
    "import math\n",
    "# 算出圓周長\n",
    "def calcPerimeter(radius):\n",
    "    return 2*radius*math.pi\n",
    "# 算出圓面積\n",
    "def roundArea(radius):\n",
    "    return radius*radius*math.pi\n",
    "print('圓周長:{0:4f}'.format(calcPerimeter(15)))\n",
    "print('圓面積:{0:4f}'.format(roundArea(15)))"
   ]
  },
  {
   "cell_type": "code",
   "execution_count": 1,
   "metadata": {},
   "outputs": [],
   "source": [
    "# 用類別改寫\n",
    "import math\n",
    "class Circle:\n",
    "    '''\n",
    "    定義類別的方法\n",
    "    calcPerimeter: 計算圓周長\n",
    "    roundArea: 計算圓面積\n",
    "    __init__() : 自訂物件初始化狀態\n",
    "    '''\n",
    "    # __init__ 初始化物件\n",
    "    def __init__(self, radius = 15):\n",
    "        self.radius = radius\n",
    "    def calcPerimeter(self): # 這邊參數要用self\n",
    "        return 2*self.radius*math.pi\n",
    "    def roundArea(self):\n",
    "        return self.radius*self.radius*math.pi"
   ]
  },
  {
   "cell_type": "code",
   "execution_count": 2,
   "metadata": {},
   "outputs": [
    {
     "name": "stdout",
     "output_type": "stream",
     "text": [
      "圓的半徑: 17\n",
      "圓周長:106.814150\n"
     ]
    }
   ],
   "source": [
    "#v 實體化類別物件\n",
    "firstR = Circle(17)\n",
    "print('圓的半徑:', firstR.radius)\n",
    "print('圓周長:{0:2f}'.format(firstR.calcPerimeter()))"
   ]
  },
  {
   "cell_type": "code",
   "execution_count": 49,
   "metadata": {},
   "outputs": [],
   "source": [
    "class Birth():\n",
    "    def __init__(self, name, y, m, d):\n",
    "        self.title = name\n",
    "        self.year = y # 年\n",
    "        self.month = m # 月\n",
    "        self.date = d # 日\n",
    "    def __str__(self): # 定義字串的格式\n",
    "        print('Hi!', self.title)\n",
    "        return 'Birth -' + str(self.year) + '年' + str(self.month) + '月' + str(self.date) + '日'\n",
    "    def __repr__(self): # 呼叫 repr()時，重建符合此字串的字串物件做回傳\n",
    "        return '{}年 {}月 {}日'.format(self.year, self.month, self.date)"
   ]
  },
  {
   "cell_type": "code",
   "execution_count": 50,
   "metadata": {},
   "outputs": [
    {
     "name": "stdout",
     "output_type": "stream",
     "text": [
      "Hi! Grace\n",
      "Birth -1987年12月15日\n",
      "Grace birth day: 1987年 12月 15日\n"
     ]
    }
   ],
   "source": [
    "p1 = Birth('Grace', 1987, 12, 15)\n",
    "print(p1)\n",
    "print(p1.title, 'birth day:', repr(p1))"
   ]
  },
  {
   "cell_type": "code",
   "execution_count": 51,
   "metadata": {},
   "outputs": [],
   "source": [
    "## 回收物件\n",
    "class Testing():\n",
    "    def __init__(self, x=0, y=0):\n",
    "        self.x = x\n",
    "        self.y = y\n",
    "    def __del__(self): # 用來清除物件\n",
    "        MyName = self.__class__.__name__\n",
    "        print('已清除', MyName)"
   ]
  },
  {
   "cell_type": "code",
   "execution_count": 53,
   "metadata": {},
   "outputs": [
    {
     "name": "stdout",
     "output_type": "stream",
     "text": [
      "已清除 Testing\n",
      "t1 =  2908956749936 , t2 =  2908956749936\n",
      "已清除 Testing\n"
     ]
    }
   ],
   "source": [
    "t1 = Testing(15, 20)\n",
    "t2 = t1\n",
    "print('t1 = ', id(t1), ', t2 = ', id(t2))\n",
    "del t1\n",
    "del t2"
   ]
  },
  {
   "cell_type": "markdown",
   "metadata": {},
   "source": [
    "#### 裝飾器"
   ]
  },
  {
   "cell_type": "code",
   "execution_count": 10,
   "metadata": {},
   "outputs": [
    {
     "name": "stdout",
     "output_type": "stream",
     "text": [
      "合計: 450.0\n"
     ]
    }
   ],
   "source": [
    "## 如果購物金額超過500元可以打九折，不想改變原有函式，再定義另一個函式\n",
    "def Entirely(): # 購物金額\n",
    "    return 450.0\n",
    "def discount(price): # 將金額打九折\n",
    "    if price() >= 500.0:\n",
    "        return lambda: price()*0.9\n",
    "    else:\n",
    "        return lambda: price()\n",
    "Entirely = discount(Entirely) # Entirely裡的金額是450元，所以不會打九折\n",
    "print('合計:', Entirely())"
   ]
  },
  {
   "cell_type": "code",
   "execution_count": 11,
   "metadata": {},
   "outputs": [
    {
     "name": "stdout",
     "output_type": "stream",
     "text": [
      "合計: 495.0\n"
     ]
    }
   ],
   "source": [
    "## 如果購物金額超過500元可以打九折，不想改變原有函式，再定義另一個函式\n",
    "def Entirely(): # 購物金額\n",
    "    return 550.0\n",
    "def discount(price): # 將金額打九折\n",
    "    if price() >= 500.0:\n",
    "        return lambda: price()*0.9\n",
    "    else:\n",
    "        return lambda: price()\n",
    "Entirely = discount(Entirely) # Entirely裡的金額是550元，所以會打九折\n",
    "print('合計:', Entirely())"
   ]
  },
  {
   "cell_type": "code",
   "execution_count": null,
   "metadata": {},
   "outputs": [],
   "source": [
    "'''\n",
    "@discount\n",
    "def Entirely()\n",
    "=> discount(Entirely)\n",
    "'''"
   ]
  },
  {
   "cell_type": "code",
   "execution_count": 12,
   "metadata": {},
   "outputs": [
    {
     "name": "stdout",
     "output_type": "stream",
     "text": [
      "合計: 455.0\n"
     ]
    }
   ],
   "source": [
    "def discount(price): # 定義裝飾器函式\n",
    "    if price() >= 500.0:\n",
    "        return lambda: price()*0.9\n",
    "    else:\n",
    "        return lambda: price()\n",
    "@discount # 裝飾器\n",
    "def Entirely(): # 購物金額\n",
    "    return 455.0\n",
    "print('合計:', Entirely())"
   ]
  },
  {
   "cell_type": "code",
   "execution_count": 14,
   "metadata": {},
   "outputs": [],
   "source": [
    "def plusNumbers (x,y):\n",
    "    return x**2+y**2\n",
    "def minusNumbers(x,y):\n",
    "    return x**2-y**2"
   ]
  },
  {
   "cell_type": "code",
   "execution_count": 16,
   "metadata": {},
   "outputs": [
    {
     "name": "stdout",
     "output_type": "stream",
     "text": [
      "Two numbers:14, 20\n",
      "兩數平方和: 596\n",
      "兩數平方差: -204\n"
     ]
    }
   ],
   "source": [
    "a,b = eval(input('Two numbers:'))\n",
    "print('兩數平方和:', plusNumbers(a,b))\n",
    "print('兩數平方差:', minusNumbers(a,b))"
   ]
  },
  {
   "cell_type": "code",
   "execution_count": 17,
   "metadata": {},
   "outputs": [
    {
     "name": "stdout",
     "output_type": "stream",
     "text": [
      "Two numbers14, 10\n",
      "兩數平方和: 296\n",
      "Two numbers20,15\n",
      "兩數平方差: 175\n"
     ]
    }
   ],
   "source": [
    "def outerNums(func):\n",
    "    def inner(x,y):\n",
    "        x, y = eval(input('Two numbers'))\n",
    "        return func(x,y)\n",
    "    return inner\n",
    "@outerNums\n",
    "def plusNumbers(x,y):\n",
    "    return x**2+y**2\n",
    "@outerNums\n",
    "def minusNumbers(x,y):\n",
    "    return x**2-y**2\n",
    "a,b = 0,0\n",
    "print('兩數平方和:', plusNumbers(a,b))\n",
    "print('兩數平方差:', minusNumbers(a,b))"
   ]
  },
  {
   "cell_type": "markdown",
   "metadata": {},
   "source": [
    "#### 類別裝飾器: 接收類別為主，並以類別回傳"
   ]
  },
  {
   "cell_type": "code",
   "execution_count": 20,
   "metadata": {},
   "outputs": [
    {
     "name": "stdout",
     "output_type": "stream",
     "text": [
      "選擇顏色:1..紅, 2.藍色, 3.灰色 \n",
      "排氣量: 4.1600, 5.1800...1,4\n",
      "車款: Yaris\n",
      "你選擇的顏色:炫魅紅, 排氣量 1600\n"
     ]
    }
   ],
   "source": [
    "# example 函式做裝飾器，包裹類別\n",
    "# 定義裝飾器\n",
    "def Car(status): \n",
    "    ## 定義 Motor類別\n",
    "    class Motor:\n",
    "        def __init__(self, name): # 初始化物件\n",
    "            self.title = name # 車款\n",
    "            self.obj = status() # 實體化物件\n",
    "            print('車款:', self.title)\n",
    "        ## 定義兩個方法： tint() power() 他們必須與裝飾器之後所定義類別的方法同名稱\n",
    "        def tint(self, opt):\n",
    "            return self.obj.tint(opt)\n",
    "        def power(self, rmp):\n",
    "            return self.obj.power(rmp)\n",
    "    return Motor\n",
    "# 定義類別 Equip，會被裝飾器傳遞，必須與裝飾器函式所包裹的類別有相同名稱方法和參數\n",
    "@Car\n",
    "class Equip:\n",
    "    def tint(self, opt):\n",
    "        if opt == 1:\n",
    "            hue = '炫魅紅'\n",
    "        elif opt == 2:\n",
    "            hue = '極光藍'\n",
    "        elif opt == 3:\n",
    "            hue = '雲河灰'\n",
    "        return hue\n",
    "    def power(self, rmp):\n",
    "        if rmp == 4:\n",
    "            return 1600\n",
    "        elif rmp == 5:\n",
    "            return 1800\n",
    "op1,op2 = eval(input(\n",
    "            '選擇顏色:1..紅, 2.藍色, 3.灰色 \\n' +\n",
    "            '排氣量: 4.1600, 5.1800...'))\n",
    "hybrid = Equip('Yaris')\n",
    "print('你選擇的顏色:{}, 排氣量 {}'.format(hybrid.tint(op1), hybrid.power(op2)))"
   ]
  },
  {
   "cell_type": "code",
   "execution_count": 30,
   "metadata": {},
   "outputs": [
    {
     "name": "stdout",
     "output_type": "stream",
     "text": [
      "Yaris\n",
      "Altis\n",
      "1800\n"
     ]
    }
   ],
   "source": [
    "# 類別來定義修飾器\n",
    "class Motor:\n",
    "    def __call__(self, *args):\n",
    "        for arg in args:\n",
    "            print(arg, end = '') # 輸出不換行\n",
    "            print()\n",
    "# *args 收集位置引數，所以參數可長可短\n",
    "vehicle = Motor()\n",
    "vehicle('Yaris')\n",
    "vehicle('Altis', 1800)"
   ]
  },
  {
   "cell_type": "code",
   "execution_count": 33,
   "metadata": {},
   "outputs": [
    {
     "name": "stdout",
     "output_type": "stream",
     "text": [
      "Yaris \n",
      "Altis 1800 \n"
     ]
    }
   ],
   "source": [
    "# __call__() : 呼叫另一個類別物件並傳遞\n",
    "class Motor: # 以類別為裝飾器\n",
    "    def __init__(self, func):\n",
    "        self.func = func\n",
    "    def __call__(self, *args):\n",
    "        for arg in args:\n",
    "            print(arg, end = ' ') # 輸出不換行\n",
    "        print()\n",
    "@Motor\n",
    "def Equip(arg):\n",
    "    pass\n",
    "veh1 = Equip('Yaris') # 呼叫 __call__() 方法\n",
    "veh2 = Equip('Altis', 1800)"
   ]
  },
  {
   "cell_type": "code",
   "execution_count": 37,
   "metadata": {},
   "outputs": [
    {
     "name": "stdout",
     "output_type": "stream",
     "text": [
      "選擇顏色:1..紅, 2.藍色, 3.灰色 \n",
      "排氣量: 4.1600, 5.1800...1, 6\n"
     ]
    }
   ],
   "source": [
    "class machine: # 以類別為裝飾器\n",
    "    def __init__(self, func):\n",
    "        self.func = func\n",
    "    def __call__(self):\n",
    "        class Motor:\n",
    "            def __init__(self, obj):\n",
    "                self.obj = obj\n",
    "            def tint(self, opt):\n",
    "                return self.obj.tint(opt)\n",
    "            def power(self, rmp):\n",
    "                return self.obj.power(rmp)\n",
    "        return Motor(self.func())\n",
    "@machine\n",
    "class Equip:\n",
    "    def tint(self, opt):\n",
    "        if opt == 1:\n",
    "            hue = '炫魅紅'\n",
    "        elif opt == 2:\n",
    "            hue = '極光藍'\n",
    "        elif opt == 3:\n",
    "            hue = '雲河灰'\n",
    "        return hue\n",
    "    def power(self, rmp):\n",
    "        if rmp == 4:\n",
    "            return 1600\n",
    "        elif rmp == 5:\n",
    "            return 1800\n",
    "op1,op2 = eval(input(\n",
    "            '選擇顏色:1..紅, 2.藍色, 3.灰色 \\n' +\n",
    "            '排氣量: 4.1600, 5.1800...'))\n",
    "hybrid = Equip()"
   ]
  },
  {
   "cell_type": "code",
   "execution_count": null,
   "metadata": {},
   "outputs": [],
   "source": [
    "class Shape:\n",
    "    def __init__(self)\n",
    "class Circle(Shape):\n",
    "    def __init__(self, radius)\n",
    "    def area(self):\n",
    "        return math.pi*self.radius**2\n",
    "    def perimeter(self):\n",
    "        return 2* math.pi*self.radius"
   ]
  },
  {
   "cell_type": "markdown",
   "metadata": {},
   "source": [
    "#### 類別方法\n",
    "將函式轉為類別方法，第一個參數是類別本身，習慣使用cls"
   ]
  },
  {
   "cell_type": "code",
   "execution_count": 32,
   "metadata": {},
   "outputs": [
    {
     "name": "stdout",
     "output_type": "stream",
     "text": [
      "車款 SUV 座位數 7\n",
      "車款 altis 座位數 4\n"
     ]
    }
   ],
   "source": [
    "class Motor: # 定義類別\n",
    "    @classmethod # 將 equip()方法修飾為類別方法\n",
    "    def equip(cls, name, seats):\n",
    "        print('車款', name, '座位數', seats)\n",
    "car = Motor() #產生物件\n",
    "Motor.equip('SUV', 7)\n",
    "car.equip('altis', 4)"
   ]
  },
  {
   "cell_type": "markdown",
   "metadata": {},
   "source": [
    "#### 類別方法\n",
    "將函式轉為靜態方法，不會以self來作為第一個參數"
   ]
  },
  {
   "cell_type": "code",
   "execution_count": 34,
   "metadata": {},
   "outputs": [
    {
     "name": "stdout",
     "output_type": "stream",
     "text": [
      "車款 SUV 座位數 7\n",
      "車款 altis 座位數 4\n"
     ]
    }
   ],
   "source": [
    "class Motor: # 定義類別\n",
    "    @staticmethod # 將 equip()方法修飾為類別方法\n",
    "    def equip(name, seats):\n",
    "        print('車款', name, '座位數', seats)\n",
    "car = Motor() #產生物件\n",
    "Motor.equip('SUV', 7)\n",
    "car.equip('altis', 4)"
   ]
  },
  {
   "cell_type": "code",
   "execution_count": 49,
   "metadata": {},
   "outputs": [
    {
     "name": "stdout",
     "output_type": "stream",
     "text": [
      "車款 SUV 座位數 7\n"
     ]
    }
   ],
   "source": [
    "# 未初始化\n",
    "class Motor: # 定義類別\n",
    "#    @classmethod # 將 equip()方法修飾為類別方法\n",
    "    def equip(self, name, seats):\n",
    "        self.name = name\n",
    "        self.seats = seats\n",
    "    def aa(self):\n",
    "        print('車款', self.name, '座位數', self.seats)\n",
    "car = Motor() #產生物件\n",
    "car.equip('SUV', 7)\n",
    "car.aa()"
   ]
  },
  {
   "cell_type": "code",
   "execution_count": 47,
   "metadata": {},
   "outputs": [
    {
     "name": "stdout",
     "output_type": "stream",
     "text": [
      "車款 SUV 座位數 7\n"
     ]
    }
   ],
   "source": [
    "# 初始化\n",
    "class Motor: # 定義類別\n",
    "#    @classmethod # 將 equip()方法修飾為類別方法\n",
    "    def __init__(self, name, seats):\n",
    "        self.name = name\n",
    "        self.seats = seats\n",
    "    def equip(self):\n",
    "        print('車款', self.name, '座位數', self.seats)\n",
    "car = Motor('SUV', 7) #產生物件\n",
    "car.equip()"
   ]
  },
  {
   "cell_type": "markdown",
   "metadata": {},
   "source": [
    "## 繼承機制"
   ]
  },
  {
   "cell_type": "markdown",
   "metadata": {},
   "source": [
    "### 產生機制"
   ]
  },
  {
   "cell_type": "code",
   "execution_count": 50,
   "metadata": {},
   "outputs": [],
   "source": [
    "class Father: # 基礎類別\n",
    "    def walking(self):\n",
    "        print('多走路有益健康!')\n",
    "class Son(Father): # 衍生類別\n",
    "    pass"
   ]
  },
  {
   "cell_type": "code",
   "execution_count": 51,
   "metadata": {},
   "outputs": [
    {
     "name": "stdout",
     "output_type": "stream",
     "text": [
      "多走路有益健康!\n"
     ]
    }
   ],
   "source": [
    "# 產生子類別實體\n",
    "Joe = Son() # 子類別實體(即物件)\n",
    "Joe.walking()"
   ]
  },
  {
   "cell_type": "code",
   "execution_count": 52,
   "metadata": {},
   "outputs": [
    {
     "name": "stdout",
     "output_type": "stream",
     "text": [
      "多走路有益健康!\n"
     ]
    }
   ],
   "source": [
    "aa = Father()\n",
    "aa.walking()"
   ]
  },
  {
   "cell_type": "code",
   "execution_count": 53,
   "metadata": {},
   "outputs": [],
   "source": [
    "class Father: # 基礎類別\n",
    "    def walking(self):\n",
    "        print('多走路有益健康!')\n",
    "class Son(Father): # 衍生類別\n",
    "    def walking(self):\n",
    "        Father.walking(self) # 呼叫父類別的方法\n",
    "        print('飯後要多多散步')"
   ]
  },
  {
   "cell_type": "code",
   "execution_count": 57,
   "metadata": {},
   "outputs": [
    {
     "name": "stdout",
     "output_type": "stream",
     "text": [
      "多走路有益健康!\n"
     ]
    }
   ],
   "source": [
    "# 差別\n",
    "Joe = Father()\n",
    "Joe.walking()"
   ]
  },
  {
   "cell_type": "code",
   "execution_count": 56,
   "metadata": {},
   "outputs": [
    {
     "name": "stdout",
     "output_type": "stream",
     "text": [
      "多走路有益健康!\n",
      "飯後要多多散步\n"
     ]
    }
   ],
   "source": [
    "Joe = Son()\n",
    "Joe.walking()"
   ]
  },
  {
   "cell_type": "code",
   "execution_count": 15,
   "metadata": {},
   "outputs": [],
   "source": [
    "class Motor: # 基礎類別或父類別\n",
    "    def __init__(self, name, price = 65, capacity = 1500): # 物件初始化\n",
    "        self.name = name\n",
    "        self.price = price\n",
    "        self.capacity = capacity\n",
    "    def equip(self, award): # 配備加給\n",
    "        self.price = self.price + award\n",
    "    def __repr__(self): # 設定輸出格式\n",
    "        '''\n",
    "        __str__: 定義字串格式\n",
    "        __repr__: 定義輸出格式\n",
    "        '''\n",
    "        msg = '{0:8s}, 售價 {1:7.2f}, 排氣量 {2:,} c.c.'\n",
    "        return msg.format(self.name, self.price, self.capacity)\n",
    "class Hybrid(Motor): # 衍生類別或子類別\n",
    "    def equip(self, award, cell = 2.18):\n",
    "        Motor.equip(self, award+cell) # self.price = self.price+award+cell\n",
    "    def tinted(self, opr):\n",
    "        if opr == 1:\n",
    "            return '極致藍'\n",
    "        elif opr == 2:\n",
    "            return '魅力紅'"
   ]
  },
  {
   "cell_type": "code",
   "execution_count": 9,
   "metadata": {},
   "outputs": [
    {
     "name": "stdout",
     "output_type": "stream",
     "text": [
      "standard, 售價   65.00, 排氣量 1,500 c.c.\n",
      "Apollo  , 售價   65.20, 排氣量 1,795 c.c. 不含電子鎖\n"
     ]
    }
   ],
   "source": [
    "# 建立父類別物件\n",
    "stand = Motor('standard') # 預設的Price是65, 排氣量 1500\n",
    "apollo = Motor('Apollo', price = 65.2, capacity = 1795)\n",
    "print(stand)\n",
    "print(apollo, '不含電子鎖')\n",
    "apollo.equip(1.2) # award = 1.2 65.2+1.2"
   ]
  },
  {
   "cell_type": "code",
   "execution_count": 10,
   "metadata": {},
   "outputs": [
    {
     "name": "stdout",
     "output_type": "stream",
     "text": [
      "Apollo  , 售價   66.40, 排氣量 1,795 c.c.\n"
     ]
    }
   ],
   "source": [
    "print(apollo)"
   ]
  },
  {
   "cell_type": "code",
   "execution_count": 11,
   "metadata": {},
   "outputs": [
    {
     "name": "stdout",
     "output_type": "stream",
     "text": [
      "Innovate, 售價  114.80, 排氣量 2,495 c.c.\n"
     ]
    }
   ],
   "source": [
    "# 建立子類別物件\n",
    "inno = Hybrid('Innovate', 114.8, 2495)\n",
    "print(inno) # 繼承"
   ]
  },
  {
   "cell_type": "code",
   "execution_count": 17,
   "metadata": {},
   "outputs": [
    {
     "name": "stdout",
     "output_type": "stream",
     "text": [
      "Innovate, 售價  131.20, 排氣量 2,495 c.c.\n",
      "Hybrid is 魅力紅\n",
      "== 三種車款 ==\n",
      "standard, 售價   65.00, 排氣量 1,500 c.c.\n",
      "Apollo  , 售價   66.40, 排氣量 1,795 c.c.\n",
      "Innovate, 售價  131.20, 排氣量 2,495 c.c.\n"
     ]
    }
   ],
   "source": [
    "inno.equip(1.1) # 114.8+1.1+2.18\n",
    "print(inno)\n",
    "print('Hybrid is', inno.tinted(2))\n",
    "print('== 三種車款 ==')\n",
    "for item in (stand, apollo, inno):\n",
    "    print(item)"
   ]
  },
  {
   "cell_type": "code",
   "execution_count": 18,
   "metadata": {},
   "outputs": [
    {
     "name": "stdout",
     "output_type": "stream",
     "text": [
      "多走路有益健康\n",
      "I can ride a bike\n"
     ]
    }
   ],
   "source": [
    "# 多重繼承\n",
    "class Father: # 基礎類別一\n",
    "    def walking(self):\n",
    "        print('多走路有益健康')\n",
    "class Mother: # 基礎類別二\n",
    "    def riding(self):\n",
    "        print('I can ride a bike')\n",
    "class Son(Father, Mother): # 衍生類別\n",
    "    pass\n",
    "## 產生子類別實體\n",
    "Joe = Son()\n",
    "Joe.walking()\n",
    "Joe.riding()"
   ]
  },
  {
   "cell_type": "markdown",
   "metadata": {},
   "source": [
    "#### 繼承的搜尋順序"
   ]
  },
  {
   "cell_type": "code",
   "execution_count": 19,
   "metadata": {},
   "outputs": [],
   "source": [
    "# 繼承的搜尋順序\n",
    "class Parent():\n",
    "    def show1(self):\n",
    "        print('Parent method one')\n",
    "    def show2(self):\n",
    "        display('Parent method two')\n",
    "class Son(Parent):\n",
    "    def display(self):\n",
    "        print('Son method')\n",
    "class Daughter(Parent):\n",
    "    def show2(self):\n",
    "        print('Daughter method one')\n",
    "    def display(self):\n",
    "        goodNews('Daughter method two')\n",
    "class Grandchild(Son, Daughter):\n",
    "    def message(self):\n",
    "        print('Grandchild method')"
   ]
  },
  {
   "cell_type": "code",
   "execution_count": 23,
   "metadata": {},
   "outputs": [
    {
     "name": "stdout",
     "output_type": "stream",
     "text": [
      "Grandchild method\n",
      "Son method\n",
      "Daughter method one\n",
      "Parent method one\n"
     ]
    }
   ],
   "source": [
    "eric = Grandchild()\n",
    "# 先找到自己的方法\n",
    "eric.message()\n",
    "#　依順序 Grandchild->Son\n",
    "eric.display()\n",
    "# Grandchild -> Son -> Daughter\n",
    "eric.show2()\n",
    "# Grandchild -> Son -> Daughter -> Parent\n",
    "eric.show1()"
   ]
  },
  {
   "cell_type": "markdown",
   "metadata": {},
   "source": [
    "#### 子類別覆寫父類別物件"
   ]
  },
  {
   "cell_type": "code",
   "execution_count": 25,
   "metadata": {},
   "outputs": [],
   "source": [
    "class Mother(): # 父類別\n",
    "    def display(self, pay): # 父類別所定義的方法\n",
    "        self.price = pay\n",
    "        if self.price > 30000:\n",
    "            return pay*0.9\n",
    "class Son(Mother): # 子類別\n",
    "    def display(self, pay): # 覆寫display方法\n",
    "        self.price = pay\n",
    "        if self.price >= 30000:\n",
    "            print('8折:', end = ' ')\n",
    "            return pay*0.8"
   ]
  },
  {
   "cell_type": "code",
   "execution_count": 26,
   "metadata": {},
   "outputs": [
    {
     "name": "stdout",
     "output_type": "stream",
     "text": [
      "8折: 28000.0\n"
     ]
    }
   ],
   "source": [
    "Joe = Son() # 建立物件\n",
    "print(Joe.display(35000))"
   ]
  },
  {
   "cell_type": "code",
   "execution_count": 27,
   "metadata": {},
   "outputs": [
    {
     "name": "stdout",
     "output_type": "stream",
     "text": [
      "31500.0\n"
     ]
    }
   ],
   "source": [
    "Joe = Mother() # 建立物件\n",
    "print(Joe.display(35000))"
   ]
  },
  {
   "cell_type": "code",
   "execution_count": 29,
   "metadata": {},
   "outputs": [],
   "source": [
    "# super():子類別要呼叫父類別所定義的方法\n",
    "class Mother(): # 父類別\n",
    "    def display(self, pay): # 父類別所定義的方法\n",
    "        self.price = pay\n",
    "        if self.price >= 30000:\n",
    "            self.price*=0.9\n",
    "        else:\n",
    "            self.price ## 維持不變\n",
    "        print(' = {:,}'.format(self.price)) #輸出格式：　price每千分位就,\n",
    "class Son(Mother): # 子類別\n",
    "    def display(self, pay): # 覆寫 display 方法\n",
    "        self.price = pay\n",
    "        super().display(pay)\n",
    "        if self.price >= 30000:\n",
    "            self.price*=0.8\n",
    "        else:\n",
    "            self.price\n",
    "        print('8 折 {:,}'.format(self.price))"
   ]
  },
  {
   "cell_type": "code",
   "execution_count": 32,
   "metadata": {},
   "outputs": [
    {
     "name": "stdout",
     "output_type": "stream",
     "text": [
      "40000 * 9折 = 36,000.0\n",
      "35000 * 9折 = 31,500.0\n",
      "8 折 25,200.0\n"
     ]
    }
   ],
   "source": [
    "Liz = Mother() # 基礎類別物件\n",
    "print('40000 * 9折', end = '')\n",
    "Liz.display(40000)\n",
    "Joe = Son() # 建立子類別物件\n",
    "print('35000 * 9折', end = '')\n",
    "'''\n",
    "Joe呼叫display()方法時,由於方法中亦呼叫super()\n",
    "會同時執行9折和8折的計算\n",
    "'''\n",
    "Joe.display(35000)"
   ]
  },
  {
   "cell_type": "code",
   "execution_count": 36,
   "metadata": {},
   "outputs": [
    {
     "name": "stdout",
     "output_type": "stream",
     "text": [
      "I am parent\n",
      "Thomas is child\n"
     ]
    }
   ],
   "source": [
    "# super()在 __init__也適用\n",
    "class Parent(): # 父類別\n",
    "    def __init__(self):\n",
    "        print('I am parent')\n",
    "class Child(Parent): # 子類別\n",
    "    def __init__(self, name):\n",
    "        super().__init__()\n",
    "        print(name, 'is child')\n",
    "tom = Child('Thomas') # 子類別實體"
   ]
  },
  {
   "cell_type": "code",
   "execution_count": 37,
   "metadata": {},
   "outputs": [
    {
     "name": "stdout",
     "output_type": "stream",
     "text": [
      "Thomas is child\n"
     ]
    }
   ],
   "source": [
    "# 不加的話\n",
    "class Parent(): # 父類別\n",
    "    def __init__(self):\n",
    "        print('I am parent')\n",
    "class Child(Parent): # 子類別\n",
    "    def __init__(self, name):\n",
    "        #super().__init__()\n",
    "        print(name, 'is child')\n",
    "tom = Child('Thomas') # 子類別實體"
   ]
  },
  {
   "cell_type": "code",
   "execution_count": 38,
   "metadata": {},
   "outputs": [],
   "source": [
    "# __bases__ 動態紀錄父類別\n",
    "class Father(): # 父類別一\n",
    "    def display(self, name):\n",
    "        self.name = name\n",
    "        print('Father name is', self.name)\n",
    "class Mother(): # 父類別二\n",
    "    def display(self, name):\n",
    "        self.name = name\n",
    "        print('Mother name is', self.name)\n",
    "## 子類別繼承 Father, Mother\n",
    "class Child(Father, Mother):\n",
    "    pass\n",
    "## 子類別繼承 Father\n",
    "class Son(Father):\n",
    "    pass"
   ]
  },
  {
   "cell_type": "code",
   "execution_count": 40,
   "metadata": {},
   "outputs": [
    {
     "name": "stdout",
     "output_type": "stream",
     "text": [
      "Child 類別, 繼承兩個基礎類別\n",
      "<class '__main__.Father'>\n",
      "<class '__main__.Mother'>\n"
     ]
    }
   ],
   "source": [
    "print(Child.__name__, '類別, 繼承兩個基礎類別')\n",
    "for item in Child.__bases__:\n",
    "    print(item)"
   ]
  },
  {
   "cell_type": "code",
   "execution_count": 41,
   "metadata": {},
   "outputs": [
    {
     "data": {
      "text/plain": [
       "(__main__.Father, __main__.Mother)"
      ]
     },
     "execution_count": 41,
     "metadata": {},
     "output_type": "execute_result"
    }
   ],
   "source": [
    "Child.__bases__"
   ]
  },
  {
   "cell_type": "code",
   "execution_count": 43,
   "metadata": {},
   "outputs": [
    {
     "name": "stdout",
     "output_type": "stream",
     "text": [
      "Father name is Eric\n",
      "Son 類別，一個父類別\n",
      "(<class '__main__.Father'>,)\n"
     ]
    }
   ],
   "source": [
    "Tom = Son() # 子類別實體，只有一個父類別\n",
    "Tom.display('Eric')\n",
    "print(Son.__name__, '類別，一個父類別')\n",
    "print(Son.__bases__)"
   ]
  },
  {
   "cell_type": "code",
   "execution_count": 46,
   "metadata": {},
   "outputs": [
    {
     "name": "stdout",
     "output_type": "stream",
     "text": [
      "Mother name is Judy\n"
     ]
    }
   ],
   "source": [
    "Son.__bases__ = (Mother,) # 經過動態指派變為 Mother\n",
    "Tom.display('Judy')"
   ]
  },
  {
   "cell_type": "markdown",
   "metadata": {},
   "source": [
    "#### 以特徵存取屬性: 對一個不公開的屬性做存取"
   ]
  },
  {
   "cell_type": "code",
   "execution_count": 47,
   "metadata": {},
   "outputs": [
    {
     "name": "stdout",
     "output_type": "stream",
     "text": [
      "Tom 生日 1998/5/21\n"
     ]
    }
   ],
   "source": [
    "class Student:\n",
    "    def __init__(self, birth):\n",
    "        self.birth = birth\n",
    "tom = Student('1998/5/21') # 物件要傳入參數\n",
    "print('Tom 生日', tom.birth)"
   ]
  },
  {
   "cell_type": "code",
   "execution_count": 69,
   "metadata": {},
   "outputs": [],
   "source": [
    "class Student:\n",
    "    def __init__(self, birth):\n",
    "        if birth == None:\n",
    "            raise ValueError('不能是空字串')\n",
    "        # __birth: 私有屬性 外部無法存取\n",
    "        self.__birth = birth\n",
    "    def getBirth(self):\n",
    "        return self.__birth\n",
    "    def setBirth(self, birth):\n",
    "        self.__birth = birth"
   ]
  },
  {
   "cell_type": "code",
   "execution_count": 70,
   "metadata": {},
   "outputs": [
    {
     "name": "stdout",
     "output_type": "stream",
     "text": [
      "Tom 生日 1998/5/21\n",
      "Tom 生日 1988/5/21\n"
     ]
    }
   ],
   "source": [
    "tom = Student('1998/5/21') # 物件要傳入參數\n",
    "print('Tom 生日', tom.getBirth())\n",
    "tom.setBirth('1988/5/21')\n",
    "print('Tom 生日', tom.getBirth())"
   ]
  },
  {
   "cell_type": "code",
   "execution_count": 61,
   "metadata": {},
   "outputs": [],
   "source": [
    "class Student:\n",
    "    def __init__(self, birth):\n",
    "        if birth == None:\n",
    "            raise ValueError('不能是空字串')\n",
    "        self.__birth = birth\n",
    "    def getBirth(self):\n",
    "        return self.__birth\n",
    "    def setBirth(self, birth):\n",
    "        self.__birth = birth\n",
    "    def delBirth(self):\n",
    "        del self.__birth\n",
    "    birth = property(getBirth, setBirth, delBirth, 'birth 特性說明')"
   ]
  },
  {
   "cell_type": "code",
   "execution_count": 65,
   "metadata": {},
   "outputs": [
    {
     "name": "stdout",
     "output_type": "stream",
     "text": [
      "Tom 生日 1998/5/21\n",
      "Tom 生日 1988/5/21\n"
     ]
    }
   ],
   "source": [
    "tom = Student('1998/5/21') # 物件要傳入參數\n",
    "print('Tom 生日', tom.birth)\n",
    "tom.birth = '1988/5/21'\n",
    "print('Tom 生日', tom.birth)"
   ]
  },
  {
   "cell_type": "code",
   "execution_count": 66,
   "metadata": {},
   "outputs": [],
   "source": [
    "class Student:\n",
    "    def __init__(self, birth):\n",
    "        if birth == None:\n",
    "            raise ValueError('不能是空字串')\n",
    "        # __birth: 私有屬性\n",
    "        self.__birth = birth\n",
    "    @property # getter 為 birth 建立一個特性\n",
    "    def birth(self):\n",
    "        return self.__birth\n",
    "    @birth.setter # 附加 setter 設定器\n",
    "    def birth(self, birth):\n",
    "        self.__birth = birth \n",
    "    @birth.deleter # 附加 deleter 刪除器\n",
    "    def birth(self):\n",
    "        del self.__birth"
   ]
  },
  {
   "cell_type": "code",
   "execution_count": 68,
   "metadata": {},
   "outputs": [
    {
     "name": "stdout",
     "output_type": "stream",
     "text": [
      "Tom 生日 1998/5/21\n"
     ]
    },
    {
     "data": {
      "text/plain": [
       "'1998/5/21'"
      ]
     },
     "execution_count": 68,
     "metadata": {},
     "output_type": "execute_result"
    }
   ],
   "source": [
    "tom = Student('1998/5/21')\n",
    "print('Tom 生日', tom.birth)\n",
    "tom.birth"
   ]
  },
  {
   "cell_type": "code",
   "execution_count": 71,
   "metadata": {},
   "outputs": [],
   "source": [
    "class Employee:\n",
    "    def __init__(self):\n",
    "        self.cut_tree = 3\n",
    "\n",
    "    def work(self):\n",
    "        print('Working')\n",
    "\n",
    "    def __sleep(self):\n",
    "        print('Sleeping')\n",
    "\n",
    "\n",
    "if __name__ == '__main__':\n",
    "    Andy = Employee()"
   ]
  },
  {
   "cell_type": "code",
   "execution_count": 73,
   "metadata": {},
   "outputs": [
    {
     "name": "stdout",
     "output_type": "stream",
     "text": [
      "Working\n"
     ]
    },
    {
     "ename": "AttributeError",
     "evalue": "'Employee' object has no attribute '__sleep'",
     "output_type": "error",
     "traceback": [
      "\u001b[1;31m---------------------------------------------------------------------------\u001b[0m",
      "\u001b[1;31mAttributeError\u001b[0m                            Traceback (most recent call last)",
      "\u001b[1;32m<ipython-input-73-3d0c7a79847a>\u001b[0m in \u001b[0;36m<module>\u001b[1;34m\u001b[0m\n\u001b[0;32m      1\u001b[0m \u001b[0mAndy\u001b[0m\u001b[1;33m.\u001b[0m\u001b[0mwork\u001b[0m\u001b[1;33m(\u001b[0m\u001b[1;33m)\u001b[0m\u001b[1;33m\u001b[0m\u001b[1;33m\u001b[0m\u001b[0m\n\u001b[1;32m----> 2\u001b[1;33m \u001b[0mAndy\u001b[0m\u001b[1;33m.\u001b[0m\u001b[0m__sleep\u001b[0m\u001b[1;33m\u001b[0m\u001b[1;33m\u001b[0m\u001b[0m\n\u001b[0m",
      "\u001b[1;31mAttributeError\u001b[0m: 'Employee' object has no attribute '__sleep'"
     ]
    }
   ],
   "source": [
    "'''\n",
    "work 可以被呼叫\n",
    "__sleep 是私有變數 呼叫會出現error\n",
    "'''\n",
    "Andy.work()\n",
    "Andy.__sleep"
   ]
  },
  {
   "cell_type": "markdown",
   "metadata": {},
   "source": [
    "#### 讓子類別也能使用特性"
   ]
  },
  {
   "cell_type": "code",
   "execution_count": 74,
   "metadata": {},
   "outputs": [],
   "source": [
    "# 在父類別使用特性\n",
    "class Student:\n",
    "    def __init__(self, birth):\n",
    "        if birth == None:\n",
    "            raise ValueError('不能是空字串')\n",
    "        #__birth: 私有屬性\n",
    "        self.__birth = birth\n",
    "        \n",
    "    @property #getter為birth建立一個特性\n",
    "    def birth(self):\n",
    "        return self.__birth\n",
    "    \n",
    "    @birth.setter #附加 setter 設定器\n",
    "    def birth(self, value):\n",
    "        if not isinstance(value, str):\n",
    "            raise TypeError('應該是字串')\n",
    "        self.__birth = value\n",
    "        \n",
    "    @birth.deleter # 附加 deleter刪除器\n",
    "    def birth(self):\n",
    "        raise AttributeError('屬性不能刪除')   \n",
    "\n",
    "class Person(Student):\n",
    "    @property # getter 為birth建立一個特性\n",
    "    def birth(self): \n",
    "        return super().birth # super():子類別要呼叫父類別所定義的方法\n",
    "    @birth.setter\n",
    "    def birth(self, value):\n",
    "        super(Person, Person).birth.__set__(self, value)\n",
    "    @birth.deleter\n",
    "    def birth(self):\n",
    "        super(Person, Person).birth.__delte__(self)"
   ]
  },
  {
   "cell_type": "code",
   "execution_count": 75,
   "metadata": {},
   "outputs": [
    {
     "name": "stdout",
     "output_type": "stream",
     "text": [
      "Eric 生日 1998/5/21\n"
     ]
    }
   ],
   "source": [
    "eric = Person('1998/5/21')\n",
    "print('Eric 生日', eric.birth)"
   ]
  },
  {
   "cell_type": "markdown",
   "metadata": {},
   "source": [
    "#### 抽象類別：由子類別實作父類別所定義的方法"
   ]
  },
  {
   "cell_type": "code",
   "execution_count": 1,
   "metadata": {},
   "outputs": [],
   "source": [
    "# abc(Abstract Base Classes)\n",
    "from abc import ABCMeta, abstractmethod # 定義抽象類別要匯入abc模組\n",
    "class Person(metaclass = ABCMeta): # 抽象類別\n",
    "    ## metaclass = ABCMeta指名其繼承類別，才能定義抽象類別相關規範\n",
    "    @abstractmethod # 抽象方法\n",
    "    def display(self, name):\n",
    "        pass \n",
    "    def pay(self): # 一般方法\n",
    "        self.display(self.name, self.salary)"
   ]
  },
  {
   "cell_type": "code",
   "execution_count": 3,
   "metadata": {},
   "outputs": [
    {
     "ename": "TypeError",
     "evalue": "Can't instantiate abstract class Person with abstract methods display",
     "output_type": "error",
     "traceback": [
      "\u001b[1;31m---------------------------------------------------------------------------\u001b[0m",
      "\u001b[1;31mTypeError\u001b[0m                                 Traceback (most recent call last)",
      "\u001b[1;32m<ipython-input-3-c2b7ae91775a>\u001b[0m in \u001b[0;36m<module>\u001b[1;34m\u001b[0m\n\u001b[0;32m      1\u001b[0m \u001b[1;31m# 嘗試為此抽象類別產生物件，會發生error\u001b[0m\u001b[1;33m\u001b[0m\u001b[1;33m\u001b[0m\u001b[1;33m\u001b[0m\u001b[0m\n\u001b[1;32m----> 2\u001b[1;33m \u001b[0msteven\u001b[0m \u001b[1;33m=\u001b[0m \u001b[0mPerson\u001b[0m\u001b[1;33m(\u001b[0m\u001b[1;33m)\u001b[0m\u001b[1;33m\u001b[0m\u001b[1;33m\u001b[0m\u001b[0m\n\u001b[0m\u001b[0;32m      3\u001b[0m \u001b[0msteven\u001b[0m\u001b[1;33m\u001b[0m\u001b[1;33m\u001b[0m\u001b[0m\n",
      "\u001b[1;31mTypeError\u001b[0m: Can't instantiate abstract class Person with abstract methods display"
     ]
    }
   ],
   "source": [
    "# 嘗試為此抽象類別產生物件，會發生error\n",
    "steven = Person()\n",
    "steven"
   ]
  },
  {
   "cell_type": "code",
   "execution_count": 4,
   "metadata": {},
   "outputs": [],
   "source": [
    "class Clerk(Person):\n",
    "    def __init__(self):\n",
    "        self.name = 'Steven'\n",
    "        self.salary = 28000\n",
    "    ## 實作display方法，其接收的參數必須與抽象類別的pay()方法相同，否則會引發錯誤\n",
    "    def display(self, name, salary):\n",
    "        print(name, 'is a Clerk')\n",
    "        print('薪水:', salary)"
   ]
  },
  {
   "cell_type": "code",
   "execution_count": 5,
   "metadata": {},
   "outputs": [
    {
     "name": "stdout",
     "output_type": "stream",
     "text": [
      "Steven is a Clerk\n",
      "薪水: 28000\n"
     ]
    }
   ],
   "source": [
    "steven = Clerk() # 建立物件\n",
    "steven.pay() # 呼叫抽象類別的一般方法"
   ]
  },
  {
   "cell_type": "markdown",
   "metadata": {},
   "source": [
    "EX2: 建立一個動物類別，希望之後繼承實作的類別都一定要有\"Screaming\"和\"walk\"的方法"
   ]
  },
  {
   "cell_type": "code",
   "execution_count": 6,
   "metadata": {},
   "outputs": [],
   "source": [
    "class Animal(metaclass=ABCMeta):\n",
    "    @abstractmethod\n",
    "    def screaming(self):\n",
    "        'Return when animal screaming the sound hear likes'\n",
    "        return NotImplemented\n",
    "    @abstractmethod\n",
    "    def walk(self, x, y):\n",
    "        'Make animal walk to position (x, y).'\n",
    "        return NotImplemented"
   ]
  },
  {
   "cell_type": "code",
   "execution_count": 7,
   "metadata": {},
   "outputs": [
    {
     "ename": "TypeError",
     "evalue": "Can't instantiate abstract class Dog with abstract methods screaming, walk",
     "output_type": "error",
     "traceback": [
      "\u001b[1;31m---------------------------------------------------------------------------\u001b[0m",
      "\u001b[1;31mTypeError\u001b[0m                                 Traceback (most recent call last)",
      "\u001b[1;32m<ipython-input-7-af84a997ccd8>\u001b[0m in \u001b[0;36m<module>\u001b[1;34m\u001b[0m\n\u001b[0;32m      2\u001b[0m \u001b[1;32mclass\u001b[0m \u001b[0mDog\u001b[0m\u001b[1;33m(\u001b[0m\u001b[0mAnimal\u001b[0m\u001b[1;33m)\u001b[0m\u001b[1;33m:\u001b[0m\u001b[1;33m\u001b[0m\u001b[1;33m\u001b[0m\u001b[0m\n\u001b[0;32m      3\u001b[0m     \u001b[1;32mpass\u001b[0m\u001b[1;33m\u001b[0m\u001b[1;33m\u001b[0m\u001b[0m\n\u001b[1;32m----> 4\u001b[1;33m \u001b[0mDog\u001b[0m\u001b[1;33m(\u001b[0m\u001b[1;33m)\u001b[0m\u001b[1;33m\u001b[0m\u001b[1;33m\u001b[0m\u001b[0m\n\u001b[0m",
      "\u001b[1;31mTypeError\u001b[0m: Can't instantiate abstract class Dog with abstract methods screaming, walk"
     ]
    }
   ],
   "source": [
    "#使用 Animal 這個抽象類別來建立類別時，就必須要實作 screaming 以及 walk 。如果沒有實作的話，Python 就會產生 TypeError：\n",
    "class Dog(Animal):\n",
    "    pass\n",
    "Dog()"
   ]
  },
  {
   "cell_type": "code",
   "execution_count": 8,
   "metadata": {},
   "outputs": [],
   "source": [
    "# 實作 Dog 類別\n",
    "class Dog(Animal):\n",
    "    x = 0\n",
    "    y = 0\n",
    "    def screaming(self):\n",
    "        return 'Wof, Wof'\n",
    "    def walk(self, x, y):\n",
    "        self.x = x\n",
    "        self.y = y\n",
    "        return (self.x, self.y)"
   ]
  },
  {
   "cell_type": "code",
   "execution_count": 9,
   "metadata": {},
   "outputs": [
    {
     "data": {
      "text/plain": [
       "'Wof, Wof'"
      ]
     },
     "execution_count": 9,
     "metadata": {},
     "output_type": "execute_result"
    }
   ],
   "source": [
    "dog = Dog()\n",
    "dog.screaming()"
   ]
  },
  {
   "cell_type": "markdown",
   "metadata": {},
   "source": [
    "#### 多形:讓子類別物件以父類別來處理，稱為鴨子型別"
   ]
  },
  {
   "cell_type": "code",
   "execution_count": 10,
   "metadata": {},
   "outputs": [],
   "source": [
    "class Motor(): # 父類別\n",
    "    def __init__(self, name, price): # 初始化物件\n",
    "        self.name = name\n",
    "        self.price = price\n",
    "    def equip(self):\n",
    "        return self.price\n",
    "    def show(self):\n",
    "        return self.name\n",
    "class SportCar(Motor): # 子類別\n",
    "    def equip(self):\n",
    "        return self.price * 1.15\n",
    "class Hybrid(Motor): # 子類別\n",
    "    def equip(self):\n",
    "        return self.price * 1.2"
   ]
  },
  {
   "cell_type": "code",
   "execution_count": 13,
   "metadata": {},
   "outputs": [
    {
     "name": "stdout",
     "output_type": "stream",
     "text": [
      "Altiz    定價 487,500\n",
      "Innovate 定價 733,700.0\n",
      "SUV      定價 1,380,000.0\n"
     ]
    }
   ],
   "source": [
    "'''\n",
    "子類別物件inno.suv皆能存取父類別 equip()方法，\n",
    "這就是多形的基本用法，三個不同類別能呼叫作法不同\n",
    "的equip()方法\n",
    "'''\n",
    "altiz = Motor('Altiz', 487500)\n",
    "print('{:8s} 定價 {:,}'.format(altiz.show(), altiz.equip()))\n",
    "inno = SportCar('Innovate', 638000)\n",
    "print('{:8s} 定價 {:,}'.format(inno.show(), inno.equip()))\n",
    "suv = Hybrid('SUV', 1150000)\n",
    "print('{:8s} 定價 {:,}'.format(suv.show(), suv.equip()))"
   ]
  },
  {
   "cell_type": "markdown",
   "metadata": {},
   "source": [
    "#### 鴨子定型"
   ]
  },
  {
   "cell_type": "code",
   "execution_count": 22,
   "metadata": {},
   "outputs": [],
   "source": [
    "class Vehicle():\n",
    "    def equip(self):\n",
    "        return 2500\n",
    "    def show(self):\n",
    "        return 'Qi 無線充電座'\n",
    "def unite(article): # 定義方法來輸出各物件\n",
    "    print('{:12s}, 售價 {:,} '.format(article.show(), article.equip()))"
   ]
  },
  {
   "cell_type": "code",
   "execution_count": 26,
   "metadata": {},
   "outputs": [
    {
     "name": "stdout",
     "output_type": "stream",
     "text": [
      "Altiz       , 售價 48,750 \n",
      "Innovate    , 售價 73,370.0 \n",
      "SUV         , 售價 1,380,000.0 \n",
      "Qi 無線充電座    , 售價 2,500 \n"
     ]
    }
   ],
   "source": [
    "altiz = Motor('Altiz', 48750)\n",
    "unite(altiz)\n",
    "inno = SportCar('Innovate', 63800)\n",
    "unite(inno)\n",
    "suv = Hybrid('SUV', 1150000)\n",
    "unite(suv)\n",
    "car = Vehicle()\n",
    "unite(car)"
   ]
  },
  {
   "cell_type": "markdown",
   "metadata": {},
   "source": [
    "#### 組合:在繼承機制中是 has_a 的關係，例如學校是由上課的日期、學生和教室組合而成，利用這個概念撰寫一個程式碼"
   ]
  },
  {
   "cell_type": "code",
   "execution_count": 32,
   "metadata": {},
   "outputs": [],
   "source": [
    "from datetime import date\n",
    "class Student:\n",
    "    def __init__(self, *name): # *name:可以接多個位置引數\n",
    "        self.name = name\n",
    "class Room:\n",
    "    def __init__(self, title, tday):\n",
    "        self.title = title\n",
    "        self.today = tday\n",
    "        print('上課日期:', self.today)\n",
    "        print('上課教室:', self.title)\n",
    "class School:\n",
    "    def __init__(self, student, room):\n",
    "        self.student = student\n",
    "        self.room = room\n",
    "    def display(self):\n",
    "        print('Student:', self.student.name)"
   ]
  },
  {
   "cell_type": "code",
   "execution_count": 33,
   "metadata": {},
   "outputs": [
    {
     "name": "stdout",
     "output_type": "stream",
     "text": [
      "上課日期: 2021-05-27\n",
      "上課教室: Abc123\n",
      "Student: ('Eric', 'Vicky', 'Emily')\n"
     ]
    }
   ],
   "source": [
    "tday = date.today()\n",
    "eric = Student('Eric', 'Vicky', 'Emily') # *name:可以接多個位置引數\n",
    "abc123 = Room('Abc123', tday)\n",
    "tc = School(eric, abc123)\n",
    "tc.display()"
   ]
  },
  {
   "cell_type": "markdown",
   "metadata": {},
   "source": [
    "# 異常處理機制\n",
    "- try/except : 捕捉Python或程式碼可能引發的錯誤\n",
    "- try/finally : 無論是否發生異常行為，皆為執行清理動作\n",
    "- raise : 以手動方式處理程式碼產生的異常\n",
    "- assert : 有條件的處理程式碼的異常"
   ]
  },
  {
   "cell_type": "code",
   "execution_count": 34,
   "metadata": {},
   "outputs": [
    {
     "ename": "SyntaxError",
     "evalue": "invalid syntax (<ipython-input-34-93323841d16f>, line 2)",
     "output_type": "error",
     "traceback": [
      "\u001b[1;36m  File \u001b[1;32m\"<ipython-input-34-93323841d16f>\"\u001b[1;36m, line \u001b[1;32m2\u001b[0m\n\u001b[1;33m    if a < b\u001b[0m\n\u001b[1;37m            ^\u001b[0m\n\u001b[1;31mSyntaxError\u001b[0m\u001b[1;31m:\u001b[0m invalid syntax\n"
     ]
    }
   ],
   "source": [
    "# SyntaxError\n",
    "a, b = 15, 30\n",
    "if a < b"
   ]
  },
  {
   "cell_type": "code",
   "execution_count": 35,
   "metadata": {},
   "outputs": [
    {
     "ename": "IndexError",
     "evalue": "list assignment index out of range",
     "output_type": "error",
     "traceback": [
      "\u001b[1;31m---------------------------------------------------------------------------\u001b[0m",
      "\u001b[1;31mIndexError\u001b[0m                                Traceback (most recent call last)",
      "\u001b[1;32m<ipython-input-35-ebd4a7d24f14>\u001b[0m in \u001b[0;36m<module>\u001b[1;34m\u001b[0m\n\u001b[0;32m      1\u001b[0m \u001b[1;31m# 宣告 List，存取元素指定索引實卻超出界值 IndexError\u001b[0m\u001b[1;33m\u001b[0m\u001b[1;33m\u001b[0m\u001b[1;33m\u001b[0m\u001b[0m\n\u001b[0;32m      2\u001b[0m \u001b[0mlt\u001b[0m \u001b[1;33m=\u001b[0m \u001b[1;33m[\u001b[0m\u001b[1;36m25\u001b[0m\u001b[1;33m,\u001b[0m \u001b[1;36m37\u001b[0m\u001b[1;33m,\u001b[0m \u001b[1;36m78\u001b[0m\u001b[1;33m,\u001b[0m \u001b[1;36m15\u001b[0m\u001b[1;33m]\u001b[0m\u001b[1;33m\u001b[0m\u001b[1;33m\u001b[0m\u001b[0m\n\u001b[1;32m----> 3\u001b[1;33m \u001b[0mlt\u001b[0m\u001b[1;33m[\u001b[0m\u001b[1;36m4\u001b[0m\u001b[1;33m]\u001b[0m \u001b[1;33m=\u001b[0m \u001b[1;36m33\u001b[0m\u001b[1;33m\u001b[0m\u001b[1;33m\u001b[0m\u001b[0m\n\u001b[0m",
      "\u001b[1;31mIndexError\u001b[0m: list assignment index out of range"
     ]
    }
   ],
   "source": [
    "# 宣告 List，存取元素指定索引實卻超出界值 IndexError\n",
    "lt = [25, 37, 78, 15]\n",
    "lt[4] = 33"
   ]
  },
  {
   "cell_type": "code",
   "execution_count": 36,
   "metadata": {},
   "outputs": [
    {
     "ename": "NameError",
     "evalue": "name 'name' is not defined",
     "output_type": "error",
     "traceback": [
      "\u001b[1;31m---------------------------------------------------------------------------\u001b[0m",
      "\u001b[1;31mNameError\u001b[0m                                 Traceback (most recent call last)",
      "\u001b[1;32m<ipython-input-36-5bcd5cfaf809>\u001b[0m in \u001b[0;36m<module>\u001b[1;34m\u001b[0m\n\u001b[0;32m      2\u001b[0m \u001b[1;32mdef\u001b[0m \u001b[0mtest\u001b[0m\u001b[1;33m(\u001b[0m\u001b[1;33m)\u001b[0m\u001b[1;33m:\u001b[0m\u001b[1;33m\u001b[0m\u001b[1;33m\u001b[0m\u001b[0m\n\u001b[0;32m      3\u001b[0m     \u001b[0mprint\u001b[0m\u001b[1;33m(\u001b[0m\u001b[1;34m'Hello!'\u001b[0m\u001b[1;33m,\u001b[0m \u001b[0mname\u001b[0m\u001b[1;33m)\u001b[0m\u001b[1;33m\u001b[0m\u001b[1;33m\u001b[0m\u001b[0m\n\u001b[1;32m----> 4\u001b[1;33m \u001b[0mtest\u001b[0m\u001b[1;33m(\u001b[0m\u001b[1;33m)\u001b[0m\u001b[1;33m\u001b[0m\u001b[1;33m\u001b[0m\u001b[0m\n\u001b[0m",
      "\u001b[1;32m<ipython-input-36-5bcd5cfaf809>\u001b[0m in \u001b[0;36mtest\u001b[1;34m()\u001b[0m\n\u001b[0;32m      1\u001b[0m \u001b[1;31m# NameError 函式裡某個名稱並未定義\u001b[0m\u001b[1;33m\u001b[0m\u001b[1;33m\u001b[0m\u001b[1;33m\u001b[0m\u001b[0m\n\u001b[0;32m      2\u001b[0m \u001b[1;32mdef\u001b[0m \u001b[0mtest\u001b[0m\u001b[1;33m(\u001b[0m\u001b[1;33m)\u001b[0m\u001b[1;33m:\u001b[0m\u001b[1;33m\u001b[0m\u001b[1;33m\u001b[0m\u001b[0m\n\u001b[1;32m----> 3\u001b[1;33m     \u001b[0mprint\u001b[0m\u001b[1;33m(\u001b[0m\u001b[1;34m'Hello!'\u001b[0m\u001b[1;33m,\u001b[0m \u001b[0mname\u001b[0m\u001b[1;33m)\u001b[0m\u001b[1;33m\u001b[0m\u001b[1;33m\u001b[0m\u001b[0m\n\u001b[0m\u001b[0;32m      4\u001b[0m \u001b[0mtest\u001b[0m\u001b[1;33m(\u001b[0m\u001b[1;33m)\u001b[0m\u001b[1;33m\u001b[0m\u001b[1;33m\u001b[0m\u001b[0m\n",
      "\u001b[1;31mNameError\u001b[0m: name 'name' is not defined"
     ]
    }
   ],
   "source": [
    "# NameError 函式裡某個名稱並未定義\n",
    "def test():\n",
    "    print('Hello!', name)\n",
    "test()"
   ]
  },
  {
   "cell_type": "code",
   "execution_count": 37,
   "metadata": {},
   "outputs": [
    {
     "name": "stdout",
     "output_type": "stream",
     "text": [
      "Input your age?two\n"
     ]
    },
    {
     "ename": "ValueError",
     "evalue": "invalid literal for int() with base 10: 'two'",
     "output_type": "error",
     "traceback": [
      "\u001b[1;31m---------------------------------------------------------------------------\u001b[0m",
      "\u001b[1;31mValueError\u001b[0m                                Traceback (most recent call last)",
      "\u001b[1;32m<ipython-input-37-d66660b44c2d>\u001b[0m in \u001b[0;36m<module>\u001b[1;34m\u001b[0m\n\u001b[1;32m----> 1\u001b[1;33m \u001b[0mage\u001b[0m \u001b[1;33m=\u001b[0m \u001b[0mint\u001b[0m\u001b[1;33m(\u001b[0m\u001b[0minput\u001b[0m\u001b[1;33m(\u001b[0m\u001b[1;34m'Input your age?'\u001b[0m\u001b[1;33m)\u001b[0m\u001b[1;33m)\u001b[0m\u001b[1;33m\u001b[0m\u001b[1;33m\u001b[0m\u001b[0m\n\u001b[0m",
      "\u001b[1;31mValueError\u001b[0m: invalid literal for int() with base 10: 'two'"
     ]
    }
   ],
   "source": [
    "# ValueError: 使用內建參數時，參數中的型別正確，但值不正確\n",
    "age = int(input('Input your age?'))"
   ]
  },
  {
   "cell_type": "code",
   "execution_count": 40,
   "metadata": {},
   "outputs": [
    {
     "name": "stdout",
     "output_type": "stream",
     "text": [
      "索引超出界值\n"
     ]
    }
   ],
   "source": [
    "# 空的 except 敘述: except敘述不加入任何異常處理判別，也能針對try敘述擷取的異常做處理\n",
    "tp = 25,67,12 # tuple\n",
    "try:\n",
    "    print(tp(3))\n",
    "except:\n",
    "    print('索引超出界值')"
   ]
  },
  {
   "cell_type": "code",
   "execution_count": 41,
   "metadata": {},
   "outputs": [
    {
     "name": "stdout",
     "output_type": "stream",
     "text": [
      "索引超出界值\n"
     ]
    }
   ],
   "source": [
    "# except + Exception 型別，可以捕捉大部分的異常\n",
    "tp = 25,67,12 # tuple\n",
    "try:\n",
    "    print(tp(3))\n",
    "except Exception:\n",
    "    print('索引超出界值')"
   ]
  },
  {
   "cell_type": "code",
   "execution_count": 45,
   "metadata": {},
   "outputs": [
    {
     "name": "stdout",
     "output_type": "stream",
     "text": [
      "錯誤 tuple index out of range\n"
     ]
    }
   ],
   "source": [
    "# as敘述給予異常型別別名，再輸出此物件的異常訊息\n",
    "tp = 25,67,12 # tuple\n",
    "try:\n",
    "    print(tp[3])\n",
    "except Exception as err:\n",
    "    print('錯誤', err)"
   ]
  },
  {
   "cell_type": "code",
   "execution_count": 43,
   "metadata": {},
   "outputs": [],
   "source": [
    "# format(): 以發生異常的物件為參數輸出相關訊息\n",
    "tp = 25,67,12,64\n",
    "\n",
    "def getIndex(num):\n",
    "    try:\n",
    "        return (tp[num])\n",
    "    except IndexError as ex:\n",
    "        print('錯誤: {0}'.format(ex))"
   ]
  },
  {
   "cell_type": "code",
   "execution_count": 44,
   "metadata": {},
   "outputs": [
    {
     "name": "stdout",
     "output_type": "stream",
     "text": [
      " 輸入索引回傳元素:4\n",
      "錯誤: tuple index out of range\n",
      "Tuple Element None\n"
     ]
    }
   ],
   "source": [
    "x = 0\n",
    "x = int(input(' 輸入索引回傳元素:'))\n",
    "print('Tuple Element', getIndex(x))"
   ]
  },
  {
   "cell_type": "markdown",
   "metadata": {},
   "source": [
    "#### try / else\n",
    "try/except區段會盡責來處理發生異常的部分，加上else敘述可以讓未引發異常的程式碼如期繼續"
   ]
  },
  {
   "cell_type": "code",
   "execution_count": 48,
   "metadata": {},
   "outputs": [
    {
     "name": "stdout",
     "output_type": "stream",
     "text": [
      "請輸入兩個數值，用逗號隔開:25,0\n",
      "Error: division by zero\n"
     ]
    }
   ],
   "source": [
    "num1, num2 = eval(input('請輸入兩個數值，用逗號隔開:'))\n",
    "try:\n",
    "    result = num1 / num2\n",
    "except ZeroDivisionError as err:\n",
    "    print('Error:', err)\n",
    "else:\n",
    "    print('相除結果:', result)"
   ]
  },
  {
   "cell_type": "markdown",
   "metadata": {},
   "source": [
    "try/finally: 無論 try 敘述的異常是否被引發，finally敘述的區段一定會被執行，finally子句具有清理善後的功能"
   ]
  },
  {
   "cell_type": "code",
   "execution_count": 49,
   "metadata": {},
   "outputs": [],
   "source": [
    "def func(num1, num2):\n",
    "    try:\n",
    "        result = num1 // num2\n",
    "        print('Result:', result)\n",
    "    finally:\n",
    "        print('完成計算')"
   ]
  },
  {
   "cell_type": "code",
   "execution_count": 51,
   "metadata": {},
   "outputs": [
    {
     "name": "stdout",
     "output_type": "stream",
     "text": [
      "Result: 12\n",
      "完成計算\n",
      "完成計算\n"
     ]
    },
    {
     "ename": "ZeroDivisionError",
     "evalue": "integer division or modulo by zero",
     "output_type": "error",
     "traceback": [
      "\u001b[1;31m---------------------------------------------------------------------------\u001b[0m",
      "\u001b[1;31mZeroDivisionError\u001b[0m                         Traceback (most recent call last)",
      "\u001b[1;32m<ipython-input-51-36611ee4e647>\u001b[0m in \u001b[0;36m<module>\u001b[1;34m\u001b[0m\n\u001b[0;32m      1\u001b[0m \u001b[0mfunc\u001b[0m\u001b[1;33m(\u001b[0m\u001b[1;36m151\u001b[0m\u001b[1;33m,\u001b[0m \u001b[1;36m12\u001b[0m\u001b[1;33m)\u001b[0m\u001b[1;33m\u001b[0m\u001b[1;33m\u001b[0m\u001b[0m\n\u001b[1;32m----> 2\u001b[1;33m \u001b[0mfunc\u001b[0m\u001b[1;33m(\u001b[0m\u001b[1;36m1\u001b[0m\u001b[1;33m,\u001b[0m\u001b[1;36m0\u001b[0m\u001b[1;33m)\u001b[0m\u001b[1;33m\u001b[0m\u001b[1;33m\u001b[0m\u001b[0m\n\u001b[0m",
      "\u001b[1;32m<ipython-input-49-752b8651502d>\u001b[0m in \u001b[0;36mfunc\u001b[1;34m(num1, num2)\u001b[0m\n\u001b[0;32m      1\u001b[0m \u001b[1;32mdef\u001b[0m \u001b[0mfunc\u001b[0m\u001b[1;33m(\u001b[0m\u001b[0mnum1\u001b[0m\u001b[1;33m,\u001b[0m \u001b[0mnum2\u001b[0m\u001b[1;33m)\u001b[0m\u001b[1;33m:\u001b[0m\u001b[1;33m\u001b[0m\u001b[1;33m\u001b[0m\u001b[0m\n\u001b[0;32m      2\u001b[0m     \u001b[1;32mtry\u001b[0m\u001b[1;33m:\u001b[0m\u001b[1;33m\u001b[0m\u001b[1;33m\u001b[0m\u001b[0m\n\u001b[1;32m----> 3\u001b[1;33m         \u001b[0mresult\u001b[0m \u001b[1;33m=\u001b[0m \u001b[0mnum1\u001b[0m \u001b[1;33m//\u001b[0m \u001b[0mnum2\u001b[0m\u001b[1;33m\u001b[0m\u001b[1;33m\u001b[0m\u001b[0m\n\u001b[0m\u001b[0;32m      4\u001b[0m         \u001b[0mprint\u001b[0m\u001b[1;33m(\u001b[0m\u001b[1;34m'Result:'\u001b[0m\u001b[1;33m,\u001b[0m \u001b[0mresult\u001b[0m\u001b[1;33m)\u001b[0m\u001b[1;33m\u001b[0m\u001b[1;33m\u001b[0m\u001b[0m\n\u001b[0;32m      5\u001b[0m     \u001b[1;32mfinally\u001b[0m\u001b[1;33m:\u001b[0m\u001b[1;33m\u001b[0m\u001b[1;33m\u001b[0m\u001b[0m\n",
      "\u001b[1;31mZeroDivisionError\u001b[0m: integer division or modulo by zero"
     ]
    }
   ],
   "source": [
    "func(151, 12)\n",
    "func(1,0)"
   ]
  },
  {
   "cell_type": "code",
   "execution_count": 53,
   "metadata": {},
   "outputs": [
    {
     "data": {
      "text/plain": [
       "(1, 3)"
      ]
     },
     "execution_count": 53,
     "metadata": {},
     "output_type": "execute_result"
    }
   ],
   "source": [
    "divmod(8, 5)"
   ]
  },
  {
   "cell_type": "code",
   "execution_count": 54,
   "metadata": {},
   "outputs": [],
   "source": [
    "def demo(num1, num2):\n",
    "    try:\n",
    "        result = divmod(num1, num2) # 返回 tuple，(商, 餘數) divmod(8, 5) = (1,3)\n",
    "    except ZeroDivisionError as err:\n",
    "        print('錯誤', err)\n",
    "    else:\n",
    "        print('計算結果', result)\n",
    "    finally:\n",
    "        print('完成計算')"
   ]
  },
  {
   "cell_type": "code",
   "execution_count": 56,
   "metadata": {},
   "outputs": [
    {
     "name": "stdout",
     "output_type": "stream",
     "text": [
      "請輸入兩個數值，用逗號隔開:1,0\n",
      "錯誤 integer division or modulo by zero\n",
      "完成計算\n"
     ]
    }
   ],
   "source": [
    "one,two = eval(input('請輸入兩個數值，用逗號隔開:'))\n",
    "demo(one,two)"
   ]
  },
  {
   "cell_type": "markdown",
   "metadata": {},
   "source": [
    "### 以程式丟出異常"
   ]
  },
  {
   "cell_type": "code",
   "execution_count": 57,
   "metadata": {},
   "outputs": [],
   "source": [
    "# 以 raise 敘述呼叫內建異常型別，無論是定義的函式或類別皆可行\n",
    "import math\n",
    "def calcArea(radius):\n",
    "    if radius < 0:\n",
    "        raise RuntimeError('不能輸入負值')\n",
    "    else:\n",
    "        area = radius*radius*math.pi\n",
    "        return area"
   ]
  },
  {
   "cell_type": "code",
   "execution_count": 58,
   "metadata": {},
   "outputs": [
    {
     "name": "stdout",
     "output_type": "stream",
     "text": [
      "請輸入數值:20\n",
      "圓面積 1256.6370614359173\n"
     ]
    }
   ],
   "source": [
    "value = float(input('請輸入數值:'))\n",
    "circleArea = calcArea(value)\n",
    "print('圓面積', circleArea)"
   ]
  },
  {
   "cell_type": "code",
   "execution_count": 59,
   "metadata": {},
   "outputs": [
    {
     "name": "stdout",
     "output_type": "stream",
     "text": [
      "引發錯誤\n"
     ]
    }
   ],
   "source": [
    "# 要在程式捕捉到異常並做處理，又不希望程式中斷執行 => 利用 try/Except敘述再加上raise敘述\n",
    "try:\n",
    "    raise Exception('引發錯誤')\n",
    "except Exception as err:\n",
    "    print(err)\n",
    "else:\n",
    "    print('沒有錯誤')"
   ]
  },
  {
   "cell_type": "code",
   "execution_count": 60,
   "metadata": {
    "scrolled": false
   },
   "outputs": [
    {
     "name": "stdout",
     "output_type": "stream",
     "text": [
      "Vicky\n",
      "list index out of range\n"
     ]
    },
    {
     "ename": "IndexError",
     "evalue": "索引超出界值",
     "output_type": "error",
     "traceback": [
      "\u001b[1;31m---------------------------------------------------------------------------\u001b[0m",
      "\u001b[1;31mIndexError\u001b[0m                                Traceback (most recent call last)",
      "\u001b[1;32m<ipython-input-60-fc1241fd16a5>\u001b[0m in \u001b[0;36mdemo\u001b[1;34m(data, num)\u001b[0m\n\u001b[0;32m      2\u001b[0m     \u001b[1;32mtry\u001b[0m\u001b[1;33m:\u001b[0m\u001b[1;33m\u001b[0m\u001b[1;33m\u001b[0m\u001b[0m\n\u001b[1;32m----> 3\u001b[1;33m         \u001b[0mdata\u001b[0m\u001b[1;33m[\u001b[0m\u001b[0mnum\u001b[0m\u001b[1;33m]\u001b[0m\u001b[1;33m\u001b[0m\u001b[1;33m\u001b[0m\u001b[0m\n\u001b[0m\u001b[0;32m      4\u001b[0m     \u001b[1;32mexcept\u001b[0m \u001b[0mIndexError\u001b[0m \u001b[1;32mas\u001b[0m \u001b[0merr\u001b[0m\u001b[1;33m:\u001b[0m\u001b[1;33m\u001b[0m\u001b[1;33m\u001b[0m\u001b[0m\n",
      "\u001b[1;31mIndexError\u001b[0m: list index out of range",
      "\nDuring handling of the above exception, another exception occurred:\n",
      "\u001b[1;31mIndexError\u001b[0m                                Traceback (most recent call last)",
      "\u001b[1;32m<ipython-input-60-fc1241fd16a5>\u001b[0m in \u001b[0;36m<module>\u001b[1;34m\u001b[0m\n\u001b[0;32m      9\u001b[0m \u001b[0mlt\u001b[0m \u001b[1;33m=\u001b[0m \u001b[1;33m[\u001b[0m\u001b[1;34m'Tom'\u001b[0m\u001b[1;33m,\u001b[0m \u001b[1;34m'Vicky'\u001b[0m\u001b[1;33m,\u001b[0m \u001b[1;34m'Steven'\u001b[0m\u001b[1;33m]\u001b[0m\u001b[1;33m\u001b[0m\u001b[1;33m\u001b[0m\u001b[0m\n\u001b[0;32m     10\u001b[0m \u001b[0mdemo\u001b[0m\u001b[1;33m(\u001b[0m\u001b[0mlt\u001b[0m\u001b[1;33m,\u001b[0m\u001b[1;36m1\u001b[0m\u001b[1;33m)\u001b[0m\u001b[1;33m\u001b[0m\u001b[1;33m\u001b[0m\u001b[0m\n\u001b[1;32m---> 11\u001b[1;33m \u001b[0mdemo\u001b[0m\u001b[1;33m(\u001b[0m\u001b[0mlt\u001b[0m\u001b[1;33m,\u001b[0m\u001b[1;36m3\u001b[0m\u001b[1;33m)\u001b[0m\u001b[1;33m\u001b[0m\u001b[1;33m\u001b[0m\u001b[0m\n\u001b[0m",
      "\u001b[1;32m<ipython-input-60-fc1241fd16a5>\u001b[0m in \u001b[0;36mdemo\u001b[1;34m(data, num)\u001b[0m\n\u001b[0;32m      4\u001b[0m     \u001b[1;32mexcept\u001b[0m \u001b[0mIndexError\u001b[0m \u001b[1;32mas\u001b[0m \u001b[0merr\u001b[0m\u001b[1;33m:\u001b[0m\u001b[1;33m\u001b[0m\u001b[1;33m\u001b[0m\u001b[0m\n\u001b[0;32m      5\u001b[0m         \u001b[0mprint\u001b[0m\u001b[1;33m(\u001b[0m\u001b[0merr\u001b[0m\u001b[1;33m)\u001b[0m\u001b[1;33m\u001b[0m\u001b[1;33m\u001b[0m\u001b[0m\n\u001b[1;32m----> 6\u001b[1;33m         \u001b[1;32mraise\u001b[0m \u001b[0mIndexError\u001b[0m\u001b[1;33m(\u001b[0m\u001b[1;34m'索引超出界值'\u001b[0m\u001b[1;33m)\u001b[0m\u001b[1;33m\u001b[0m\u001b[1;33m\u001b[0m\u001b[0m\n\u001b[0m\u001b[0;32m      7\u001b[0m     \u001b[1;32melse\u001b[0m\u001b[1;33m:\u001b[0m\u001b[1;33m\u001b[0m\u001b[1;33m\u001b[0m\u001b[0m\n\u001b[0;32m      8\u001b[0m         \u001b[0mprint\u001b[0m\u001b[1;33m(\u001b[0m\u001b[0mdata\u001b[0m\u001b[1;33m[\u001b[0m\u001b[0mnum\u001b[0m\u001b[1;33m]\u001b[0m\u001b[1;33m)\u001b[0m\u001b[1;33m\u001b[0m\u001b[1;33m\u001b[0m\u001b[0m\n",
      "\u001b[1;31mIndexError\u001b[0m: 索引超出界值"
     ]
    }
   ],
   "source": [
    "def demo(data, num):\n",
    "    try:\n",
    "        data[num]\n",
    "    except IndexError as err:\n",
    "        print(err)\n",
    "        raise IndexError('索引超出界值')\n",
    "    else:\n",
    "        print(data[num])\n",
    "lt = ['Tom', 'Vicky', 'Steven']\n",
    "demo(lt,1)\n",
    "demo(lt,3)"
   ]
  },
  {
   "cell_type": "code",
   "execution_count": 61,
   "metadata": {},
   "outputs": [
    {
     "name": "stdout",
     "output_type": "stream",
     "text": [
      "Vicky\n",
      "list index out of range\n"
     ]
    }
   ],
   "source": [
    "def demo(data, num):\n",
    "    try:\n",
    "        data[num]\n",
    "    except IndexError as err:\n",
    "        print(err)\n",
    "        #raise IndexError('索引超出界值')\n",
    "    else:\n",
    "        print(data[num])\n",
    "lt = ['Tom', 'Vicky', 'Steven']\n",
    "demo(lt,1)\n",
    "demo(lt,3)"
   ]
  },
  {
   "cell_type": "code",
   "execution_count": 62,
   "metadata": {},
   "outputs": [
    {
     "ename": "TypeError",
     "evalue": "錯誤",
     "output_type": "error",
     "traceback": [
      "\u001b[1;31m---------------------------------------------------------------------------\u001b[0m",
      "\u001b[1;31mZeroDivisionError\u001b[0m                         Traceback (most recent call last)",
      "\u001b[1;32m<ipython-input-62-d21345707052>\u001b[0m in \u001b[0;36m<module>\u001b[1;34m\u001b[0m\n\u001b[0;32m      1\u001b[0m \u001b[1;32mtry\u001b[0m\u001b[1;33m:\u001b[0m\u001b[1;33m\u001b[0m\u001b[1;33m\u001b[0m\u001b[0m\n\u001b[1;32m----> 2\u001b[1;33m     \u001b[0mprint\u001b[0m\u001b[1;33m(\u001b[0m\u001b[1;36m1\u001b[0m\u001b[1;33m/\u001b[0m\u001b[1;36m0\u001b[0m\u001b[1;33m)\u001b[0m\u001b[1;33m\u001b[0m\u001b[1;33m\u001b[0m\u001b[0m\n\u001b[0m\u001b[0;32m      3\u001b[0m \u001b[1;32mexcept\u001b[0m \u001b[0mException\u001b[0m \u001b[1;32mas\u001b[0m \u001b[0merr\u001b[0m\u001b[1;33m:\u001b[0m\u001b[1;33m\u001b[0m\u001b[1;33m\u001b[0m\u001b[0m\n",
      "\u001b[1;31mZeroDivisionError\u001b[0m: division by zero",
      "\nThe above exception was the direct cause of the following exception:\n",
      "\u001b[1;31mTypeError\u001b[0m                                 Traceback (most recent call last)",
      "\u001b[1;32m<ipython-input-62-d21345707052>\u001b[0m in \u001b[0;36m<module>\u001b[1;34m\u001b[0m\n\u001b[0;32m      2\u001b[0m     \u001b[0mprint\u001b[0m\u001b[1;33m(\u001b[0m\u001b[1;36m1\u001b[0m\u001b[1;33m/\u001b[0m\u001b[1;36m0\u001b[0m\u001b[1;33m)\u001b[0m\u001b[1;33m\u001b[0m\u001b[1;33m\u001b[0m\u001b[0m\n\u001b[0;32m      3\u001b[0m \u001b[1;32mexcept\u001b[0m \u001b[0mException\u001b[0m \u001b[1;32mas\u001b[0m \u001b[0merr\u001b[0m\u001b[1;33m:\u001b[0m\u001b[1;33m\u001b[0m\u001b[1;33m\u001b[0m\u001b[0m\n\u001b[1;32m----> 4\u001b[1;33m     \u001b[1;32mraise\u001b[0m \u001b[0mTypeError\u001b[0m\u001b[1;33m(\u001b[0m\u001b[1;34m'錯誤'\u001b[0m\u001b[1;33m)\u001b[0m \u001b[1;32mfrom\u001b[0m \u001b[0merr\u001b[0m\u001b[1;33m\u001b[0m\u001b[1;33m\u001b[0m\u001b[0m\n\u001b[0m",
      "\u001b[1;31mTypeError\u001b[0m: 錯誤"
     ]
    }
   ],
   "source": [
    "try:\n",
    "    print(1/0)\n",
    "except Exception as err:\n",
    "    raise TypeError('錯誤') from err"
   ]
  },
  {
   "cell_type": "code",
   "execution_count": 64,
   "metadata": {},
   "outputs": [
    {
     "ename": "AssertionError",
     "evalue": "輸入的值要大於60",
     "output_type": "error",
     "traceback": [
      "\u001b[1;31m---------------------------------------------------------------------------\u001b[0m",
      "\u001b[1;31mAssertionError\u001b[0m                            Traceback (most recent call last)",
      "\u001b[1;32m<ipython-input-64-c781dedd1802>\u001b[0m in \u001b[0;36m<module>\u001b[1;34m\u001b[0m\n\u001b[0;32m      6\u001b[0m         \u001b[0mtotal\u001b[0m \u001b[1;33m+=\u001b[0m \u001b[0mitem\u001b[0m\u001b[1;33m\u001b[0m\u001b[1;33m\u001b[0m\u001b[0m\n\u001b[0;32m      7\u001b[0m     \u001b[1;32mreturn\u001b[0m \u001b[0mtotal\u001b[0m\u001b[1;33m\u001b[0m\u001b[1;33m\u001b[0m\u001b[0m\n\u001b[1;32m----> 8\u001b[1;33m \u001b[0mprint\u001b[0m\u001b[1;33m(\u001b[0m\u001b[1;34m'合計:'\u001b[0m\u001b[1;33m,\u001b[0m \u001b[0mdemo\u001b[0m\u001b[1;33m(\u001b[0m\u001b[0mdata\u001b[0m\u001b[1;33m)\u001b[0m\u001b[1;33m)\u001b[0m\u001b[1;33m\u001b[0m\u001b[1;33m\u001b[0m\u001b[0m\n\u001b[0m",
      "\u001b[1;32m<ipython-input-64-c781dedd1802>\u001b[0m in \u001b[0;36mdemo\u001b[1;34m(data)\u001b[0m\n\u001b[0;32m      3\u001b[0m     \u001b[0mtotal\u001b[0m \u001b[1;33m=\u001b[0m \u001b[1;36m0\u001b[0m\u001b[1;33m\u001b[0m\u001b[1;33m\u001b[0m\u001b[0m\n\u001b[0;32m      4\u001b[0m     \u001b[1;32mfor\u001b[0m \u001b[0mitem\u001b[0m \u001b[1;32min\u001b[0m \u001b[0mdata\u001b[0m\u001b[1;33m:\u001b[0m\u001b[1;33m\u001b[0m\u001b[1;33m\u001b[0m\u001b[0m\n\u001b[1;32m----> 5\u001b[1;33m         \u001b[1;32massert\u001b[0m \u001b[0mitem\u001b[0m \u001b[1;33m>\u001b[0m \u001b[1;36m60\u001b[0m\u001b[1;33m,\u001b[0m \u001b[1;34m'輸入的值要大於60'\u001b[0m\u001b[1;33m\u001b[0m\u001b[1;33m\u001b[0m\u001b[0m\n\u001b[0m\u001b[0;32m      6\u001b[0m         \u001b[0mtotal\u001b[0m \u001b[1;33m+=\u001b[0m \u001b[0mitem\u001b[0m\u001b[1;33m\u001b[0m\u001b[1;33m\u001b[0m\u001b[0m\n\u001b[0;32m      7\u001b[0m     \u001b[1;32mreturn\u001b[0m \u001b[0mtotal\u001b[0m\u001b[1;33m\u001b[0m\u001b[1;33m\u001b[0m\u001b[0m\n",
      "\u001b[1;31mAssertionError\u001b[0m: 輸入的值要大於60"
     ]
    }
   ],
   "source": [
    "data = [82,57,78]\n",
    "def demo(data):\n",
    "    total = 0\n",
    "    for item in data:\n",
    "        # assert 敘述用來檢查值是否大於60，只要有一個元素小於60就會丟出異常\n",
    "        assert item > 60, '輸入的值要大於60'\n",
    "        total += item\n",
    "    return total\n",
    "print('合計:', demo(data))"
   ]
  },
  {
   "cell_type": "markdown",
   "metadata": {},
   "source": [
    "### 使用者自訂例外處理\n",
    "可以自訂異常處理型別，不過必須繼承Exception型別來產生自己所需的異常型別"
   ]
  },
  {
   "cell_type": "code",
   "execution_count": 65,
   "metadata": {},
   "outputs": [],
   "source": [
    "class Myerror(Exception):\n",
    "    def __init__(self, radius):\n",
    "        self.radius = radius\n",
    "    def __str__(self):\n",
    "        return repr(self.radius)"
   ]
  },
  {
   "cell_type": "code",
   "execution_count": 66,
   "metadata": {},
   "outputs": [],
   "source": [
    "class Circular:\n",
    "    def __init__(self, radius):\n",
    "        self.setR(radius)\n",
    "    def getR(self): # 取得半徑設為私有屬性\n",
    "        return self._radius\n",
    "    def setR(self, radius): # 設定半徑值\n",
    "        if radius > 0:\n",
    "            self._radius = radius\n",
    "        else:\n",
    "            raise Myerror(radius)\n",
    "    def periphery(self): # 計算圓周長\n",
    "        return 2*self._radius*math.pi\n",
    "    def calcArea(self):\n",
    "        return self._radius*self._radius*math.pi\n",
    "    def __repr__(self): # 設定輸出格式\n",
    "        return '圓周長: {:4.3f}, 圓面積: {:4.3f}'.format(self.periphery(), self.calcArea())"
   ]
  },
  {
   "cell_type": "code",
   "execution_count": 67,
   "metadata": {},
   "outputs": [
    {
     "name": "stdout",
     "output_type": "stream",
     "text": [
      "圓周長: 94.248, 圓面積: 706.858\n",
      "\n",
      "引發異常, 錯誤值: -11\n"
     ]
    }
   ],
   "source": [
    "try:\n",
    "    one = Circular(15)\n",
    "    print(one)\n",
    "    two = Circular(-11)\n",
    "    print(two)\n",
    "except Myerror as err:\n",
    "    print()\n",
    "    print('引發異常, 錯誤值:', err.radius)"
   ]
  }
 ],
 "metadata": {
  "kernelspec": {
   "display_name": "Python 3",
   "language": "python",
   "name": "python3"
  },
  "language_info": {
   "codemirror_mode": {
    "name": "ipython",
    "version": 3
   },
   "file_extension": ".py",
   "mimetype": "text/x-python",
   "name": "python",
   "nbconvert_exporter": "python",
   "pygments_lexer": "ipython3",
   "version": "3.8.3"
  }
 },
 "nbformat": 4,
 "nbformat_minor": 4
}
