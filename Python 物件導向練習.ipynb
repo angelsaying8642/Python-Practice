{
 "cells": [
  {
   "cell_type": "markdown",
   "metadata": {},
   "source": [
    "## 物件導向：將真實世界的事物模組化，主要目的是提供軟體的再使用性和可讀性"
   ]
  },
  {
   "cell_type": "markdown",
   "metadata": {},
   "source": [
    "### 定義方法\n",
    "- 定義於類別內部\n",
    "- 只有產生實體(物件)才會被呼叫\n",
    "- 定義方法的第一個參數必須是自己 -> self"
   ]
  },
  {
   "cell_type": "markdown",
   "metadata": {},
   "source": [
    "#### self 的用意\n",
    "1. 定義類別時所有的方法都必須宣告他\n",
    "2. 當物件呼叫方法時，Python直譯器會將它傳遞\n",
    "3. 使用於方法的 self 引數，會繫結所指向的實體"
   ]
  },
  {
   "cell_type": "code",
   "execution_count": 11,
   "metadata": {},
   "outputs": [
    {
     "name": "stdout",
     "output_type": "stream",
     "text": [
      "款式: Vios  , 顏色:極光藍 \n",
      "款式: Altisads, 顏色:炫魅紅 \n"
     ]
    }
   ],
   "source": [
    "class Motor: # 字首要大寫\n",
    "    # 定義方法一 : 取得名稱和顏色\n",
    "    def buildCar(self, name, color):\n",
    "        self.name = name\n",
    "        self.color = color\n",
    "    # 定義方法二： 輸出名稱和顏色\n",
    "    def showMessage(self):\n",
    "        print('款式: {0:6s}, 顏色:{1:4s}'.format(self.name, self.color)) # 0: 第一個欄位 1: 第二個欄位\n",
    "# 產生物件\n",
    "car1 = Motor() # 物件1\n",
    "car1.buildCar('Vios', '極光藍')\n",
    "car1.showMessage()\n",
    "car2 = Motor() # 物件2\n",
    "car2.buildCar('Altis', '炫魅紅')\n",
    "car2.showMessage()"
   ]
  },
  {
   "cell_type": "code",
   "execution_count": 13,
   "metadata": {},
   "outputs": [
    {
     "data": {
      "text/plain": [
       "__main__.Motor"
      ]
     },
     "execution_count": 13,
     "metadata": {},
     "output_type": "execute_result"
    }
   ],
   "source": [
    "type(car1)"
   ]
  },
  {
   "cell_type": "code",
   "execution_count": 15,
   "metadata": {},
   "outputs": [
    {
     "name": "stdout",
     "output_type": "stream",
     "text": [
      "James McAvoy\n",
      "78.566\n"
     ]
    }
   ],
   "source": [
    "class Student:\n",
    "    def message(self, name): # 方法一\n",
    "        self.data = name\n",
    "    def showMessage(self): # 方法二\n",
    "        print(self.data)\n",
    "s1 = Student() # 第一個物件\n",
    "s1.message('James McAvoy') # 呼叫方法時傳入字串\n",
    "s1.showMessage()\n",
    "s2 = Student() # 第二個物件\n",
    "s2.message(78.566) # 呼叫方法時傳入浮點數值\n",
    "s2.showMessage()"
   ]
  },
  {
   "cell_type": "code",
   "execution_count": 16,
   "metadata": {},
   "outputs": [
    {
     "data": {
      "text/plain": [
       "76.33333333333333"
      ]
     },
     "execution_count": 16,
     "metadata": {},
     "output_type": "execute_result"
    }
   ],
   "source": [
    "class Student:\n",
    "    def score(self, s1, s2, s3): \n",
    "        return (s1+s2+s3)/3\n",
    "Tomas = Student() # 產生物件\n",
    "Tomas.score(78, 96, 55)"
   ]
  }
 ],
 "metadata": {
  "kernelspec": {
   "display_name": "Python 3",
   "language": "python",
   "name": "python3"
  },
  "language_info": {
   "codemirror_mode": {
    "name": "ipython",
    "version": 3
   },
   "file_extension": ".py",
   "mimetype": "text/x-python",
   "name": "python",
   "nbconvert_exporter": "python",
   "pygments_lexer": "ipython3",
   "version": "3.8.3"
  }
 },
 "nbformat": 4,
 "nbformat_minor": 4
}
