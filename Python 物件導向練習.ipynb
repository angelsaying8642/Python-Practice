{
 "cells": [
  {
   "cell_type": "markdown",
   "metadata": {},
   "source": [
    "## 物件導向：將真實世界的事物模組化，主要目的是提供軟體的再使用性和可讀性"
   ]
  },
  {
   "cell_type": "markdown",
   "metadata": {},
   "source": [
    "### 定義方法\n",
    "- 定義於類別內部\n",
    "- 只有產生實體(物件)才會被呼叫\n",
    "- 定義方法的第一個參數必須是自己 -> self"
   ]
  },
  {
   "cell_type": "markdown",
   "metadata": {},
   "source": [
    "#### self 的用意\n",
    "1. 定義類別時所有的方法都必須宣告他\n",
    "2. 當物件呼叫方法時，Python直譯器會將它傳遞\n",
    "3. 使用於方法的 self 引數，會繫結所指向的實體"
   ]
  },
  {
   "cell_type": "code",
   "execution_count": 11,
   "metadata": {},
   "outputs": [
    {
     "name": "stdout",
     "output_type": "stream",
     "text": [
      "款式: Vios  , 顏色:極光藍 \n",
      "款式: Altisads, 顏色:炫魅紅 \n"
     ]
    }
   ],
   "source": [
    "class Motor: # 字首要大寫\n",
    "    # 定義方法一 : 取得名稱和顏色\n",
    "    def buildCar(self, name, color):\n",
    "        self.name = name\n",
    "        self.color = color\n",
    "    # 定義方法二： 輸出名稱和顏色\n",
    "    def showMessage(self):\n",
    "        print('款式: {0:6s}, 顏色:{1:4s}'.format(self.name, self.color)) # 0: 第一個欄位 1: 第二個欄位\n",
    "# 產生物件\n",
    "car1 = Motor() # 物件1\n",
    "car1.buildCar('Vios', '極光藍')\n",
    "car1.showMessage()\n",
    "car2 = Motor() # 物件2\n",
    "car2.buildCar('Altis', '炫魅紅')\n",
    "car2.showMessage()"
   ]
  },
  {
   "cell_type": "code",
   "execution_count": 20,
   "metadata": {},
   "outputs": [
    {
     "ename": "TypeError",
     "evalue": "Motor() takes no arguments",
     "output_type": "error",
     "traceback": [
      "\u001b[1;31m---------------------------------------------------------------------------\u001b[0m",
      "\u001b[1;31mTypeError\u001b[0m                                 Traceback (most recent call last)",
      "\u001b[1;32m<ipython-input-20-d246cd8c110e>\u001b[0m in \u001b[0;36m<module>\u001b[1;34m\u001b[0m\n\u001b[1;32m----> 1\u001b[1;33m \u001b[0mMotor\u001b[0m\u001b[1;33m(\u001b[0m\u001b[1;34m'Vios'\u001b[0m\u001b[1;33m,\u001b[0m \u001b[1;34m'極光藍'\u001b[0m\u001b[1;33m)\u001b[0m\u001b[1;33m\u001b[0m\u001b[1;33m\u001b[0m\u001b[0m\n\u001b[0m",
      "\u001b[1;31mTypeError\u001b[0m: Motor() takes no arguments"
     ]
    }
   ],
   "source": [
    "Motor('Vios', '極光藍') # 出 error"
   ]
  },
  {
   "cell_type": "code",
   "execution_count": 13,
   "metadata": {},
   "outputs": [
    {
     "data": {
      "text/plain": [
       "__main__.Motor"
      ]
     },
     "execution_count": 13,
     "metadata": {},
     "output_type": "execute_result"
    }
   ],
   "source": [
    "type(car1)"
   ]
  },
  {
   "cell_type": "code",
   "execution_count": 15,
   "metadata": {},
   "outputs": [
    {
     "name": "stdout",
     "output_type": "stream",
     "text": [
      "James McAvoy\n",
      "78.566\n"
     ]
    }
   ],
   "source": [
    "class Student:\n",
    "    def message(self, name): # 方法一\n",
    "        self.data = name\n",
    "    def showMessage(self): # 方法二\n",
    "        print(self.data)\n",
    "s1 = Student() # 第一個物件\n",
    "s1.message('James McAvoy') # 呼叫方法時傳入字串\n",
    "s1.showMessage()\n",
    "s2 = Student() # 第二個物件\n",
    "s2.message(78.566) # 呼叫方法時傳入浮點數值\n",
    "s2.showMessage()"
   ]
  },
  {
   "cell_type": "code",
   "execution_count": 16,
   "metadata": {},
   "outputs": [
    {
     "data": {
      "text/plain": [
       "76.33333333333333"
      ]
     },
     "execution_count": 16,
     "metadata": {},
     "output_type": "execute_result"
    }
   ],
   "source": [
    "class Student:\n",
    "    def score(self, s1, s2, s3): \n",
    "        return (s1+s2+s3)/3\n",
    "Tomas = Student() # 產生物件\n",
    "Tomas.score(78, 96, 55)"
   ]
  },
  {
   "cell_type": "code",
   "execution_count": 17,
   "metadata": {},
   "outputs": [
    {
     "data": {
      "text/plain": [
       "['math']"
      ]
     },
     "execution_count": 17,
     "metadata": {},
     "output_type": "execute_result"
    }
   ],
   "source": [
    "## 新增物件屬性\n",
    "Tomas.subject = [] # 自訂屬性\n",
    "Tomas.subject.append('math')\n",
    "Tomas.subject"
   ]
  },
  {
   "cell_type": "markdown",
   "metadata": {},
   "source": [
    "#### 先建構再初始化物件"
   ]
  },
  {
   "cell_type": "code",
   "execution_count": 23,
   "metadata": {},
   "outputs": [],
   "source": [
    "'''\n",
    "class Motor: # 字首要大寫\n",
    "    # 定義方法一 : 取得名稱和顏色\n",
    "    def buildCar(self, name, color):\n",
    "        self.name = name\n",
    "        self.color = color\n",
    "'''\n",
    "class Motor:\n",
    "    def __init__(self, name, color) : #對物件做初始化\n",
    "        self.name = name\n",
    "        self.color = color"
   ]
  },
  {
   "cell_type": "code",
   "execution_count": 27,
   "metadata": {},
   "outputs": [],
   "source": [
    "'''\n",
    "由於 __init__()方法要有兩個參數，所以實體化物件就得傳入name.color兩個參數值，若未加入就換產生TypeError\n",
    "'''\n",
    "car1 = Motor('Vios', '極光藍')"
   ]
  },
  {
   "cell_type": "code",
   "execution_count": 29,
   "metadata": {},
   "outputs": [
    {
     "name": "stdout",
     "output_type": "stream",
     "text": [
      "圓周長:94.247780\n",
      "圓面積:706.858347\n"
     ]
    }
   ],
   "source": [
    "import math\n",
    "# 算出圓周長\n",
    "def calcPerimeter(radius):\n",
    "    return 2*radius*math.pi\n",
    "# 算出圓面積\n",
    "def roundArea(radius):\n",
    "    return radius*radius*math.pi\n",
    "print('圓周長:{0:4f}'.format(calcPerimeter(15)))\n",
    "print('圓面積:{0:4f}'.format(roundArea(15)))"
   ]
  },
  {
   "cell_type": "code",
   "execution_count": 40,
   "metadata": {},
   "outputs": [],
   "source": [
    "# 用類別改寫\n",
    "import math\n",
    "class Circle:\n",
    "    '''\n",
    "    定義類別的方法\n",
    "    calcPerimeter: 計算圓周長\n",
    "    roundArea: 計算圓面積\n",
    "    __init__() : 自訂物件初始化狀態\n",
    "    '''\n",
    "    # __init__ 初始化物件\n",
    "    def __init__(self, radius = 15):\n",
    "        self.radius = radius\n",
    "    def calcPerimeter(self): # 這邊參數要用self\n",
    "        return 2*self.radius*math.pi\n",
    "    def roundArea(self):\n",
    "        return self.radius*self.radius*math.pi"
   ]
  },
  {
   "cell_type": "code",
   "execution_count": 41,
   "metadata": {},
   "outputs": [
    {
     "name": "stdout",
     "output_type": "stream",
     "text": [
      "圓的半徑: 17\n",
      "圓周長:106.814150\n"
     ]
    }
   ],
   "source": [
    "#v 實體化類別物件\n",
    "firstR = Circle(17)\n",
    "print('圓的半徑:', firstR.radius)\n",
    "print('圓周長:{0:2f}'.format(firstR.calcPerimeter()))"
   ]
  },
  {
   "cell_type": "code",
   "execution_count": 49,
   "metadata": {},
   "outputs": [],
   "source": [
    "class Birth():\n",
    "    def __init__(self, name, y, m, d):\n",
    "        self.title = name\n",
    "        self.year = y # 年\n",
    "        self.month = m # 月\n",
    "        self.date = d # 日\n",
    "    def __str__(self): # 定義字串的格式\n",
    "        print('Hi!', self.title)\n",
    "        return 'Birth -' + str(self.year) + '年' + str(self.month) + '月' + str(self.date) + '日'\n",
    "    def __repr__(self): # 呼叫 repr()時，重建符合此字串的字串物件做回傳\n",
    "        return '{}年 {}月 {}日'.format(self.year, self.month, self.date)"
   ]
  },
  {
   "cell_type": "code",
   "execution_count": 50,
   "metadata": {},
   "outputs": [
    {
     "name": "stdout",
     "output_type": "stream",
     "text": [
      "Hi! Grace\n",
      "Birth -1987年12月15日\n",
      "Grace birth day: 1987年 12月 15日\n"
     ]
    }
   ],
   "source": [
    "p1 = Birth('Grace', 1987, 12, 15)\n",
    "print(p1)\n",
    "print(p1.title, 'birth day:', repr(p1))"
   ]
  },
  {
   "cell_type": "code",
   "execution_count": 51,
   "metadata": {},
   "outputs": [],
   "source": [
    "## 回收物件\n",
    "class Testing():\n",
    "    def __init__(self, x=0, y=0):\n",
    "        self.x = x\n",
    "        self.y = y\n",
    "    def __del__(self): # 用來清除物件\n",
    "        MyName = self.__class__.__name__\n",
    "        print('已清除', MyName)"
   ]
  },
  {
   "cell_type": "code",
   "execution_count": 53,
   "metadata": {},
   "outputs": [
    {
     "name": "stdout",
     "output_type": "stream",
     "text": [
      "已清除 Testing\n",
      "t1 =  2908956749936 , t2 =  2908956749936\n",
      "已清除 Testing\n"
     ]
    }
   ],
   "source": [
    "t1 = Testing(15, 20)\n",
    "t2 = t1\n",
    "print('t1 = ', id(t1), ', t2 = ', id(t2))\n",
    "del t1\n",
    "del t2"
   ]
  }
 ],
 "metadata": {
  "kernelspec": {
   "display_name": "Python 3",
   "language": "python",
   "name": "python3"
  },
  "language_info": {
   "codemirror_mode": {
    "name": "ipython",
    "version": 3
   },
   "file_extension": ".py",
   "mimetype": "text/x-python",
   "name": "python",
   "nbconvert_exporter": "python",
   "pygments_lexer": "ipython3",
   "version": "3.8.3"
  }
 },
 "nbformat": 4,
 "nbformat_minor": 4
}
